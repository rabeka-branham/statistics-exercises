{
 "cells": [
  {
   "cell_type": "code",
   "execution_count": 1,
   "id": "74e8a973-2c1c-4042-96b4-17ba71ebb2f0",
   "metadata": {
    "tags": []
   },
   "outputs": [],
   "source": [
    "import pandas as pd\n",
    "import numpy as np\n",
    "from pydataset import data\n",
    "from scipy import stats\n",
    "import matplotlib.pyplot as plt\n",
    "import seaborn as sns\n",
    "import math"
   ]
  },
  {
   "cell_type": "markdown",
   "id": "805f8cad-3aee-4f94-bda6-76a0aadc38fd",
   "metadata": {},
   "source": [
    "### Exercises\n",
    "For each of the following questions, formulate a null and alternative hypothesis (be as specific as you can be), then give an example of what a true positive, true negative, type I and type II errors would look like. Note that some of the questions are intentionally phrased in a vague way. It is your job to reword these as more precise questions that could be tested."
   ]
  },
  {
   "cell_type": "markdown",
   "id": "a4e97167-ccc4-446f-9f08-74c443255b98",
   "metadata": {},
   "source": [
    "**Has the network latency gone up since we switched internet service providers?**"
   ]
  },
  {
   "cell_type": "markdown",
   "id": "e6aef1f6-ae56-44a3-8c89-c7c76f06e0dd",
   "metadata": {},
   "source": [
    "* **H<sub>0</sub>:** The internet service provider does NOT affect the network latency\n",
    "\n",
    "* **H<sub>1</sub>:** The internet service provider does affect the network latency\n",
    "\n",
    "* **True Positive:** The internet service provider does affect the network latency, & we were correct\n",
    "\n",
    "* **True Negative:** The internet service provider does NOT affect the network latency, & we were correct\n",
    "\n",
    "* **Type I:** The internet service provider does affect the network latency, & we were WRONG\n",
    "\n",
    "* **Type II:** The internet service provider does NOT affect the network latency, & we were WRONG"
   ]
  },
  {
   "cell_type": "markdown",
   "id": "2e0d92b8-0b95-4212-aeb6-8ecbf202fe71",
   "metadata": {},
   "source": [
    "**Is the website redesign any good?**"
   ]
  },
  {
   "cell_type": "markdown",
   "id": "cb07cd40-35b9-43c0-b725-1a6ffaba234a",
   "metadata": {
    "tags": []
   },
   "source": [
    "* **H<sub>0</sub>:**\n",
    "\n",
    "* **H<sub>1</sub>:**\n",
    "\n",
    "* **True Positive:**\n",
    "\n",
    "* **True Negative:**\n",
    "\n",
    "* **Type I:**\n",
    "\n",
    "* **Type II:**"
   ]
  },
  {
   "cell_type": "markdown",
   "id": "bfe76b83-3393-4d09-b89a-68521b7b262a",
   "metadata": {},
   "source": [
    "**Is our television ad driving more sales?**"
   ]
  },
  {
   "cell_type": "markdown",
   "id": "d5069790-b1f8-4fd2-aa56-10b52e6c5c48",
   "metadata": {},
   "source": [
    "* **H<sub>0</sub>:**\n",
    "\n",
    "* **H<sub>1</sub>:**\n",
    "\n",
    "* **True Positive:**\n",
    "\n",
    "* **True Negative:**\n",
    "\n",
    "* **Type I:**\n",
    "\n",
    "* **Type II:**"
   ]
  },
  {
   "cell_type": "markdown",
   "id": "f54718b6-6266-4110-8142-60c7b88d189a",
   "metadata": {},
   "source": [
    "**1. Use the following contingency table to help answer the question of whether using a Macbook and being a Codeup student are independent of each other.**"
   ]
  },
  {
   "cell_type": "markdown",
   "id": "336711a9-2d6a-451a-861c-d6cd29fd400f",
   "metadata": {
    "tags": []
   },
   "source": [
    "- $H_o$: There is NO relationship between using a Macbook & being a Codeup student\n",
    "- $H_a$: There IS a relationship between using a Macbook & being a Codeup student"
   ]
  },
  {
   "cell_type": "code",
   "execution_count": 254,
   "id": "a76dca62-456a-454c-a8a4-eff3d55b561a",
   "metadata": {
    "tags": []
   },
   "outputs": [
    {
     "data": {
      "text/plain": [
       "{'Codeup Student': [49, 1], 'Not Codeup Student': [20, 30]}"
      ]
     },
     "execution_count": 254,
     "metadata": {},
     "output_type": "execute_result"
    }
   ],
   "source": [
    "data_dict = {'Codeup Student': [49,1], 'Not Codeup Student': [20,30]}\n",
    "data_dict"
   ]
  },
  {
   "cell_type": "code",
   "execution_count": 257,
   "id": "e6a406f9-1b0e-4df2-a7df-c57871f96629",
   "metadata": {
    "tags": []
   },
   "outputs": [
    {
     "data": {
      "text/html": [
       "<div>\n",
       "<style scoped>\n",
       "    .dataframe tbody tr th:only-of-type {\n",
       "        vertical-align: middle;\n",
       "    }\n",
       "\n",
       "    .dataframe tbody tr th {\n",
       "        vertical-align: top;\n",
       "    }\n",
       "\n",
       "    .dataframe thead th {\n",
       "        text-align: right;\n",
       "    }\n",
       "</style>\n",
       "<table border=\"1\" class=\"dataframe\">\n",
       "  <thead>\n",
       "    <tr style=\"text-align: right;\">\n",
       "      <th></th>\n",
       "      <th>Codeup Student</th>\n",
       "      <th>Not Codeup Student</th>\n",
       "    </tr>\n",
       "  </thead>\n",
       "  <tbody>\n",
       "    <tr>\n",
       "      <th>Macbook</th>\n",
       "      <td>49</td>\n",
       "      <td>20</td>\n",
       "    </tr>\n",
       "    <tr>\n",
       "      <th>Doesn't Use A Macbook</th>\n",
       "      <td>1</td>\n",
       "      <td>30</td>\n",
       "    </tr>\n",
       "  </tbody>\n",
       "</table>\n",
       "</div>"
      ],
      "text/plain": [
       "                       Codeup Student  Not Codeup Student\n",
       "Macbook                            49                  20\n",
       "Doesn't Use A Macbook               1                  30"
      ]
     },
     "execution_count": 257,
     "metadata": {},
     "output_type": "execute_result"
    }
   ],
   "source": [
    "observed = pd.DataFrame(data_dict, index=['Macbook','Doesn\\'t Use A Macbook'])\n",
    "observed"
   ]
  },
  {
   "cell_type": "code",
   "execution_count": 258,
   "id": "58462a53-dcc9-4200-88ee-59b483805417",
   "metadata": {
    "tags": []
   },
   "outputs": [],
   "source": [
    "α = .05"
   ]
  },
  {
   "cell_type": "code",
   "execution_count": 261,
   "id": "48b664b7-3d6a-4241-99ed-14e78ae8320e",
   "metadata": {
    "tags": []
   },
   "outputs": [],
   "source": [
    "chi2, p, dof, expected = stats.chi2_contingency(observed)"
   ]
  },
  {
   "cell_type": "code",
   "execution_count": 268,
   "id": "c65065b1-939e-4af4-8837-713bf975443d",
   "metadata": {
    "tags": []
   },
   "outputs": [
    {
     "name": "stdout",
     "output_type": "stream",
     "text": [
      "Observed\n",
      "[[49 20]\n",
      " [ 1 30]]\n",
      "\n",
      "Expected\n",
      "[[34.5 34.5]\n",
      " [15.5 15.5]]\n",
      "\n",
      "----\n",
      "chi^2 = 36.6526\n",
      "p     = 0.0000\n"
     ]
    }
   ],
   "source": [
    "print('Observed')\n",
    "print(observed.values)\n",
    "\n",
    "print('\\nExpected')\n",
    "print(expected)\n",
    "\n",
    "print(f'\\nchi^2 = {chi2:.4f}')\n",
    "print(f'p     = {p:.4f}')"
   ]
  },
  {
   "cell_type": "code",
   "execution_count": 266,
   "id": "78cd22b8-327d-4548-ade2-70af5e851ffc",
   "metadata": {
    "tags": []
   },
   "outputs": [
    {
     "name": "stdout",
     "output_type": "stream",
     "text": [
      "reject the null hypothesis\n"
     ]
    }
   ],
   "source": [
    "if p < α:\n",
    "    print('reject the null hypothesis')\n",
    "else:\n",
    "    print('fail to reject the null hypothesis')"
   ]
  },
  {
   "cell_type": "markdown",
   "id": "3b92200b-2b41-4a01-8796-be30d7aa1123",
   "metadata": {},
   "source": [
    "> We have concluded that there IS a relationship between using a Macbook & being a Codeup student"
   ]
  },
  {
   "cell_type": "markdown",
   "id": "49e47da9-1c78-45c6-b8ed-7389e258a66f",
   "metadata": {},
   "source": [
    "**2. Choose another 2 categorical variables from the mpg dataset.**"
   ]
  },
  {
   "cell_type": "code",
   "execution_count": 270,
   "id": "42f55512-b135-4195-af2b-23b4a63359ae",
   "metadata": {
    "tags": []
   },
   "outputs": [
    {
     "data": {
      "text/html": [
       "<div>\n",
       "<style scoped>\n",
       "    .dataframe tbody tr th:only-of-type {\n",
       "        vertical-align: middle;\n",
       "    }\n",
       "\n",
       "    .dataframe tbody tr th {\n",
       "        vertical-align: top;\n",
       "    }\n",
       "\n",
       "    .dataframe thead th {\n",
       "        text-align: right;\n",
       "    }\n",
       "</style>\n",
       "<table border=\"1\" class=\"dataframe\">\n",
       "  <thead>\n",
       "    <tr style=\"text-align: right;\">\n",
       "      <th></th>\n",
       "      <th>manufacturer</th>\n",
       "      <th>model</th>\n",
       "      <th>displ</th>\n",
       "      <th>year</th>\n",
       "      <th>cyl</th>\n",
       "      <th>trans</th>\n",
       "      <th>drv</th>\n",
       "      <th>cty</th>\n",
       "      <th>hwy</th>\n",
       "      <th>fl</th>\n",
       "      <th>class</th>\n",
       "    </tr>\n",
       "  </thead>\n",
       "  <tbody>\n",
       "    <tr>\n",
       "      <th>1</th>\n",
       "      <td>audi</td>\n",
       "      <td>a4</td>\n",
       "      <td>1.8</td>\n",
       "      <td>1999</td>\n",
       "      <td>4</td>\n",
       "      <td>auto(l5)</td>\n",
       "      <td>f</td>\n",
       "      <td>18</td>\n",
       "      <td>29</td>\n",
       "      <td>p</td>\n",
       "      <td>compact</td>\n",
       "    </tr>\n",
       "    <tr>\n",
       "      <th>2</th>\n",
       "      <td>audi</td>\n",
       "      <td>a4</td>\n",
       "      <td>1.8</td>\n",
       "      <td>1999</td>\n",
       "      <td>4</td>\n",
       "      <td>manual(m5)</td>\n",
       "      <td>f</td>\n",
       "      <td>21</td>\n",
       "      <td>29</td>\n",
       "      <td>p</td>\n",
       "      <td>compact</td>\n",
       "    </tr>\n",
       "    <tr>\n",
       "      <th>3</th>\n",
       "      <td>audi</td>\n",
       "      <td>a4</td>\n",
       "      <td>2.0</td>\n",
       "      <td>2008</td>\n",
       "      <td>4</td>\n",
       "      <td>manual(m6)</td>\n",
       "      <td>f</td>\n",
       "      <td>20</td>\n",
       "      <td>31</td>\n",
       "      <td>p</td>\n",
       "      <td>compact</td>\n",
       "    </tr>\n",
       "    <tr>\n",
       "      <th>4</th>\n",
       "      <td>audi</td>\n",
       "      <td>a4</td>\n",
       "      <td>2.0</td>\n",
       "      <td>2008</td>\n",
       "      <td>4</td>\n",
       "      <td>auto(av)</td>\n",
       "      <td>f</td>\n",
       "      <td>21</td>\n",
       "      <td>30</td>\n",
       "      <td>p</td>\n",
       "      <td>compact</td>\n",
       "    </tr>\n",
       "    <tr>\n",
       "      <th>5</th>\n",
       "      <td>audi</td>\n",
       "      <td>a4</td>\n",
       "      <td>2.8</td>\n",
       "      <td>1999</td>\n",
       "      <td>6</td>\n",
       "      <td>auto(l5)</td>\n",
       "      <td>f</td>\n",
       "      <td>16</td>\n",
       "      <td>26</td>\n",
       "      <td>p</td>\n",
       "      <td>compact</td>\n",
       "    </tr>\n",
       "  </tbody>\n",
       "</table>\n",
       "</div>"
      ],
      "text/plain": [
       "  manufacturer model  displ  year  cyl       trans drv  cty  hwy fl    class\n",
       "1         audi    a4    1.8  1999    4    auto(l5)   f   18   29  p  compact\n",
       "2         audi    a4    1.8  1999    4  manual(m5)   f   21   29  p  compact\n",
       "3         audi    a4    2.0  2008    4  manual(m6)   f   20   31  p  compact\n",
       "4         audi    a4    2.0  2008    4    auto(av)   f   21   30  p  compact\n",
       "5         audi    a4    2.8  1999    6    auto(l5)   f   16   26  p  compact"
      ]
     },
     "execution_count": 270,
     "metadata": {},
     "output_type": "execute_result"
    }
   ],
   "source": [
    "df = data('mpg')\n",
    "df.head()"
   ]
  },
  {
   "cell_type": "code",
   "execution_count": 275,
   "id": "41ef3249-a762-4e9b-b238-2b6d088a09d2",
   "metadata": {
    "tags": []
   },
   "outputs": [],
   "source": [
    "df = df.rename(columns = {'class':'class_type'})"
   ]
  },
  {
   "cell_type": "code",
   "execution_count": 276,
   "id": "5e176182-8e4f-4d84-8ab4-1adc54df28be",
   "metadata": {
    "tags": []
   },
   "outputs": [
    {
     "data": {
      "text/html": [
       "<div>\n",
       "<style scoped>\n",
       "    .dataframe tbody tr th:only-of-type {\n",
       "        vertical-align: middle;\n",
       "    }\n",
       "\n",
       "    .dataframe tbody tr th {\n",
       "        vertical-align: top;\n",
       "    }\n",
       "\n",
       "    .dataframe thead th {\n",
       "        text-align: right;\n",
       "    }\n",
       "</style>\n",
       "<table border=\"1\" class=\"dataframe\">\n",
       "  <thead>\n",
       "    <tr style=\"text-align: right;\">\n",
       "      <th>class_type</th>\n",
       "      <th>2seater</th>\n",
       "      <th>compact</th>\n",
       "      <th>midsize</th>\n",
       "      <th>minivan</th>\n",
       "      <th>pickup</th>\n",
       "      <th>subcompact</th>\n",
       "      <th>suv</th>\n",
       "    </tr>\n",
       "    <tr>\n",
       "      <th>cyl</th>\n",
       "      <th></th>\n",
       "      <th></th>\n",
       "      <th></th>\n",
       "      <th></th>\n",
       "      <th></th>\n",
       "      <th></th>\n",
       "      <th></th>\n",
       "    </tr>\n",
       "  </thead>\n",
       "  <tbody>\n",
       "    <tr>\n",
       "      <th>4</th>\n",
       "      <td>0</td>\n",
       "      <td>32</td>\n",
       "      <td>16</td>\n",
       "      <td>1</td>\n",
       "      <td>3</td>\n",
       "      <td>21</td>\n",
       "      <td>8</td>\n",
       "    </tr>\n",
       "    <tr>\n",
       "      <th>5</th>\n",
       "      <td>0</td>\n",
       "      <td>2</td>\n",
       "      <td>0</td>\n",
       "      <td>0</td>\n",
       "      <td>0</td>\n",
       "      <td>2</td>\n",
       "      <td>0</td>\n",
       "    </tr>\n",
       "    <tr>\n",
       "      <th>6</th>\n",
       "      <td>0</td>\n",
       "      <td>13</td>\n",
       "      <td>23</td>\n",
       "      <td>10</td>\n",
       "      <td>10</td>\n",
       "      <td>7</td>\n",
       "      <td>16</td>\n",
       "    </tr>\n",
       "    <tr>\n",
       "      <th>8</th>\n",
       "      <td>5</td>\n",
       "      <td>0</td>\n",
       "      <td>2</td>\n",
       "      <td>0</td>\n",
       "      <td>20</td>\n",
       "      <td>5</td>\n",
       "      <td>38</td>\n",
       "    </tr>\n",
       "  </tbody>\n",
       "</table>\n",
       "</div>"
      ],
      "text/plain": [
       "class_type  2seater  compact  midsize  minivan  pickup  subcompact  suv\n",
       "cyl                                                                    \n",
       "4                 0       32       16        1       3          21    8\n",
       "5                 0        2        0        0       0           2    0\n",
       "6                 0       13       23       10      10           7   16\n",
       "8                 5        0        2        0      20           5   38"
      ]
     },
     "execution_count": 276,
     "metadata": {},
     "output_type": "execute_result"
    }
   ],
   "source": [
    "observed = pd.crosstab(df.cyl,df.class_type)\n",
    "observed"
   ]
  },
  {
   "cell_type": "markdown",
   "id": "c7c40683-01d6-48ff-8c44-441482578ebc",
   "metadata": {},
   "source": [
    "* State your null and alternative hypotheses."
   ]
  },
  {
   "cell_type": "markdown",
   "id": "bf58eeca-3d40-451e-8c2c-406affc65219",
   "metadata": {
    "tags": []
   },
   "source": [
    "> $H_o$: There is NO relationship between the amount of cylinders & class_type\n",
    "\n",
    ">$H_a$: There IS a relationship between the amount of cylinders & class_type"
   ]
  },
  {
   "cell_type": "markdown",
   "id": "09b87c34-ee45-44ab-8b9b-a700a6372e42",
   "metadata": {
    "tags": []
   },
   "source": [
    "* State your alpha."
   ]
  },
  {
   "cell_type": "code",
   "execution_count": 277,
   "id": "4ea435cf-87b0-4683-82e3-6e3605150b9b",
   "metadata": {
    "tags": []
   },
   "outputs": [],
   "source": [
    "α = .05"
   ]
  },
  {
   "cell_type": "markdown",
   "id": "233c5ef5-dd50-437a-83e5-4ed49786a234",
   "metadata": {},
   "source": [
    "* Perform a $\\chi^2$ test of independent."
   ]
  },
  {
   "cell_type": "code",
   "execution_count": 281,
   "id": "569853b2-22dd-4c46-b02b-de15275e4bf9",
   "metadata": {
    "tags": []
   },
   "outputs": [
    {
     "data": {
      "text/plain": [
       "1.5351076620141522e-20"
      ]
     },
     "execution_count": 281,
     "metadata": {},
     "output_type": "execute_result"
    }
   ],
   "source": [
    "chi2, p, dof, expected = stats.chi2_contingency(observed)"
   ]
  },
  {
   "cell_type": "code",
   "execution_count": 282,
   "id": "cbd98c30-0feb-4665-8bf3-27611177455b",
   "metadata": {
    "tags": []
   },
   "outputs": [
    {
     "name": "stdout",
     "output_type": "stream",
     "text": [
      "reject the null hypothesis\n"
     ]
    }
   ],
   "source": [
    "if p < α:\n",
    "    print('reject the null hypothesis')\n",
    "else:\n",
    "    print('fail to reject the null hypothesis')"
   ]
  },
  {
   "cell_type": "markdown",
   "id": "0194e27d-6f24-4f03-99f7-923687b19046",
   "metadata": {
    "tags": []
   },
   "source": [
    "* State your conclusion"
   ]
  },
  {
   "cell_type": "markdown",
   "id": "208eac1e-1917-4369-89d4-8cbff7b37931",
   "metadata": {
    "tags": []
   },
   "source": [
    "> We have concluded that there IS a relationship between the amount of cylinders & class_type."
   ]
  },
  {
   "cell_type": "markdown",
   "id": "15936ab4-e752-4ff2-a229-477f1145c6da",
   "metadata": {},
   "source": [
    "Use the data from the employees database to answer these questions:\n",
    "\n",
    "* Is an employee's gender independent of whether an employee works in sales or marketing? (only look at current employees)"
   ]
  },
  {
   "cell_type": "markdown",
   "id": "3f5026c9-687d-4a4d-a09f-3442b9b2791b",
   "metadata": {
    "tags": []
   },
   "source": [
    ">$H_o$: There is NO relationship between an employee's gender & whether they work in sales or marketing\n",
    "\n",
    ">$H_a$: There IS a relationship between an employee's gender & whether they work in sales or marketing"
   ]
  },
  {
   "cell_type": "code",
   "execution_count": 299,
   "id": "d445c205-975b-49e7-a652-3413c7046c5c",
   "metadata": {
    "tags": []
   },
   "outputs": [],
   "source": [
    "import env\n",
    "from env import get_db_url"
   ]
  },
  {
   "cell_type": "code",
   "execution_count": 300,
   "id": "d3a8a857-0bf0-4127-8617-0c59bf57371a",
   "metadata": {
    "tags": []
   },
   "outputs": [],
   "source": [
    "url = env.get_db_url(env.username,env.host,env.password,'employees')"
   ]
  },
  {
   "cell_type": "code",
   "execution_count": 295,
   "id": "bcfbca03-5f28-404d-a259-edfa934d9040",
   "metadata": {
    "tags": []
   },
   "outputs": [],
   "source": [
    "query = '''\n",
    "SELECT dept_name,gender\n",
    "FROM departments d\n",
    "JOIN dept_emp de ON d.dept_no = de.dept_no\n",
    "JOIN employees e ON e.emp_no = de.emp_no\n",
    "WHERE de.to_date > NOW()\n",
    "  AND d.dept_name IN ('Customer Service', 'Sales');\n",
    "'''\n",
    "df = pd.read_sql(query, url)"
   ]
  },
  {
   "cell_type": "code",
   "execution_count": 90,
   "id": "b6268302-f2fa-4593-a49b-cc199ae459e7",
   "metadata": {
    "tags": []
   },
   "outputs": [],
   "source": [
    "α = .05"
   ]
  },
  {
   "cell_type": "code",
   "execution_count": 298,
   "id": "e0066a71-b7fd-4656-8d43-2bd367683507",
   "metadata": {
    "tags": []
   },
   "outputs": [
    {
     "data": {
      "text/html": [
       "<div>\n",
       "<style scoped>\n",
       "    .dataframe tbody tr th:only-of-type {\n",
       "        vertical-align: middle;\n",
       "    }\n",
       "\n",
       "    .dataframe tbody tr th {\n",
       "        vertical-align: top;\n",
       "    }\n",
       "\n",
       "    .dataframe thead th {\n",
       "        text-align: right;\n",
       "    }\n",
       "</style>\n",
       "<table border=\"1\" class=\"dataframe\">\n",
       "  <thead>\n",
       "    <tr style=\"text-align: right;\">\n",
       "      <th>dept_name</th>\n",
       "      <th>Customer Service</th>\n",
       "      <th>Sales</th>\n",
       "    </tr>\n",
       "    <tr>\n",
       "      <th>gender</th>\n",
       "      <th></th>\n",
       "      <th></th>\n",
       "    </tr>\n",
       "  </thead>\n",
       "  <tbody>\n",
       "    <tr>\n",
       "      <th>F</th>\n",
       "      <td>7007</td>\n",
       "      <td>14999</td>\n",
       "    </tr>\n",
       "    <tr>\n",
       "      <th>M</th>\n",
       "      <td>10562</td>\n",
       "      <td>22702</td>\n",
       "    </tr>\n",
       "  </tbody>\n",
       "</table>\n",
       "</div>"
      ],
      "text/plain": [
       "dept_name  Customer Service  Sales\n",
       "gender                            \n",
       "F                      7007  14999\n",
       "M                     10562  22702"
      ]
     },
     "execution_count": 298,
     "metadata": {},
     "output_type": "execute_result"
    }
   ],
   "source": [
    "observed = pd.crosstab(df.gender,df.dept_name)\n",
    "observed"
   ]
  },
  {
   "cell_type": "code",
   "execution_count": 96,
   "id": "adf6dbd6-8815-418f-af18-549b413568fb",
   "metadata": {
    "tags": []
   },
   "outputs": [],
   "source": [
    "chi2, p, dof, expected = stats.chi2_contingency(observed)"
   ]
  },
  {
   "cell_type": "code",
   "execution_count": 97,
   "id": "854daa92-9e91-4712-b0b9-60003013ee13",
   "metadata": {
    "tags": []
   },
   "outputs": [
    {
     "name": "stdout",
     "output_type": "stream",
     "text": [
      "failed to reject the null hypothesis\n"
     ]
    }
   ],
   "source": [
    "if p < α:\n",
    "    print('reject the null hypothesis')\n",
    "else:\n",
    "    print('failed to reject the null hypothesis')"
   ]
  },
  {
   "cell_type": "markdown",
   "id": "154749d3-bc82-4162-a670-04b4bbf48d70",
   "metadata": {},
   "source": [
    "> We have concluded that there is NO relationship between an employee's gender & whether they work in sales or marketing"
   ]
  },
  {
   "cell_type": "markdown",
   "id": "b0e5a600-6d22-4781-b9f5-3163f74f5606",
   "metadata": {},
   "source": [
    "* Is an employee's gender independent of whether or not they are or have been a manager?"
   ]
  },
  {
   "cell_type": "code",
   "execution_count": 323,
   "id": "748b7cca-d69e-4e3c-b864-045ce717194a",
   "metadata": {
    "tags": []
   },
   "outputs": [],
   "source": [
    "query = '''\n",
    "select *\n",
    "from dept_manager dm\n",
    "right join employees e\n",
    "\tON dm.emp_no = e.emp_no\n",
    "order by dm.emp_no DESC;\n",
    "'''\n",
    "df = pd.read_sql(query, url)"
   ]
  },
  {
   "cell_type": "code",
   "execution_count": 324,
   "id": "a76274b7-6fd7-4ab0-9b5b-7a09ff830e95",
   "metadata": {
    "tags": []
   },
   "outputs": [
    {
     "data": {
      "text/html": [
       "<div>\n",
       "<style scoped>\n",
       "    .dataframe tbody tr th:only-of-type {\n",
       "        vertical-align: middle;\n",
       "    }\n",
       "\n",
       "    .dataframe tbody tr th {\n",
       "        vertical-align: top;\n",
       "    }\n",
       "\n",
       "    .dataframe thead th {\n",
       "        text-align: right;\n",
       "    }\n",
       "</style>\n",
       "<table border=\"1\" class=\"dataframe\">\n",
       "  <thead>\n",
       "    <tr style=\"text-align: right;\">\n",
       "      <th></th>\n",
       "      <th>emp_no</th>\n",
       "      <th>dept_no</th>\n",
       "      <th>from_date</th>\n",
       "      <th>to_date</th>\n",
       "      <th>emp_no</th>\n",
       "      <th>birth_date</th>\n",
       "      <th>first_name</th>\n",
       "      <th>last_name</th>\n",
       "      <th>gender</th>\n",
       "      <th>hire_date</th>\n",
       "    </tr>\n",
       "  </thead>\n",
       "  <tbody>\n",
       "    <tr>\n",
       "      <th>0</th>\n",
       "      <td>111939.0</td>\n",
       "      <td>d009</td>\n",
       "      <td>1996-01-03</td>\n",
       "      <td>9999-01-01</td>\n",
       "      <td>111939</td>\n",
       "      <td>1960-03-25</td>\n",
       "      <td>Yuchang</td>\n",
       "      <td>Weedman</td>\n",
       "      <td>M</td>\n",
       "      <td>1989-07-10</td>\n",
       "    </tr>\n",
       "    <tr>\n",
       "      <th>1</th>\n",
       "      <td>111877.0</td>\n",
       "      <td>d009</td>\n",
       "      <td>1992-09-08</td>\n",
       "      <td>1996-01-03</td>\n",
       "      <td>111877</td>\n",
       "      <td>1962-10-18</td>\n",
       "      <td>Xiaobin</td>\n",
       "      <td>Spinelli</td>\n",
       "      <td>F</td>\n",
       "      <td>1991-08-17</td>\n",
       "    </tr>\n",
       "    <tr>\n",
       "      <th>2</th>\n",
       "      <td>111784.0</td>\n",
       "      <td>d009</td>\n",
       "      <td>1988-10-17</td>\n",
       "      <td>1992-09-08</td>\n",
       "      <td>111784</td>\n",
       "      <td>1956-06-14</td>\n",
       "      <td>Marjo</td>\n",
       "      <td>Giarratana</td>\n",
       "      <td>F</td>\n",
       "      <td>1988-02-12</td>\n",
       "    </tr>\n",
       "    <tr>\n",
       "      <th>3</th>\n",
       "      <td>111692.0</td>\n",
       "      <td>d009</td>\n",
       "      <td>1985-01-01</td>\n",
       "      <td>1988-10-17</td>\n",
       "      <td>111692</td>\n",
       "      <td>1954-10-05</td>\n",
       "      <td>Tonny</td>\n",
       "      <td>Butterworth</td>\n",
       "      <td>F</td>\n",
       "      <td>1985-01-01</td>\n",
       "    </tr>\n",
       "    <tr>\n",
       "      <th>4</th>\n",
       "      <td>111534.0</td>\n",
       "      <td>d008</td>\n",
       "      <td>1991-04-08</td>\n",
       "      <td>9999-01-01</td>\n",
       "      <td>111534</td>\n",
       "      <td>1952-06-27</td>\n",
       "      <td>Hilary</td>\n",
       "      <td>Kambil</td>\n",
       "      <td>F</td>\n",
       "      <td>1988-01-31</td>\n",
       "    </tr>\n",
       "    <tr>\n",
       "      <th>...</th>\n",
       "      <td>...</td>\n",
       "      <td>...</td>\n",
       "      <td>...</td>\n",
       "      <td>...</td>\n",
       "      <td>...</td>\n",
       "      <td>...</td>\n",
       "      <td>...</td>\n",
       "      <td>...</td>\n",
       "      <td>...</td>\n",
       "      <td>...</td>\n",
       "    </tr>\n",
       "    <tr>\n",
       "      <th>300019</th>\n",
       "      <td>NaN</td>\n",
       "      <td>None</td>\n",
       "      <td>None</td>\n",
       "      <td>None</td>\n",
       "      <td>492778</td>\n",
       "      <td>1962-09-21</td>\n",
       "      <td>Kasturi</td>\n",
       "      <td>Lakshmanan</td>\n",
       "      <td>M</td>\n",
       "      <td>1986-12-01</td>\n",
       "    </tr>\n",
       "    <tr>\n",
       "      <th>300020</th>\n",
       "      <td>NaN</td>\n",
       "      <td>None</td>\n",
       "      <td>None</td>\n",
       "      <td>None</td>\n",
       "      <td>492779</td>\n",
       "      <td>1954-07-29</td>\n",
       "      <td>Wilmer</td>\n",
       "      <td>Matteis</td>\n",
       "      <td>M</td>\n",
       "      <td>1998-03-17</td>\n",
       "    </tr>\n",
       "    <tr>\n",
       "      <th>300021</th>\n",
       "      <td>NaN</td>\n",
       "      <td>None</td>\n",
       "      <td>None</td>\n",
       "      <td>None</td>\n",
       "      <td>492780</td>\n",
       "      <td>1955-06-05</td>\n",
       "      <td>Mana</td>\n",
       "      <td>Erva</td>\n",
       "      <td>F</td>\n",
       "      <td>1992-06-23</td>\n",
       "    </tr>\n",
       "    <tr>\n",
       "      <th>300022</th>\n",
       "      <td>NaN</td>\n",
       "      <td>None</td>\n",
       "      <td>None</td>\n",
       "      <td>None</td>\n",
       "      <td>492781</td>\n",
       "      <td>1955-01-12</td>\n",
       "      <td>Khedija</td>\n",
       "      <td>Fritzsche</td>\n",
       "      <td>M</td>\n",
       "      <td>1989-11-12</td>\n",
       "    </tr>\n",
       "    <tr>\n",
       "      <th>300023</th>\n",
       "      <td>NaN</td>\n",
       "      <td>None</td>\n",
       "      <td>None</td>\n",
       "      <td>None</td>\n",
       "      <td>492782</td>\n",
       "      <td>1962-07-10</td>\n",
       "      <td>Yahiko</td>\n",
       "      <td>Ratnakar</td>\n",
       "      <td>M</td>\n",
       "      <td>1989-05-20</td>\n",
       "    </tr>\n",
       "  </tbody>\n",
       "</table>\n",
       "<p>300024 rows × 10 columns</p>\n",
       "</div>"
      ],
      "text/plain": [
       "          emp_no dept_no   from_date     to_date  emp_no  birth_date  \\\n",
       "0       111939.0    d009  1996-01-03  9999-01-01  111939  1960-03-25   \n",
       "1       111877.0    d009  1992-09-08  1996-01-03  111877  1962-10-18   \n",
       "2       111784.0    d009  1988-10-17  1992-09-08  111784  1956-06-14   \n",
       "3       111692.0    d009  1985-01-01  1988-10-17  111692  1954-10-05   \n",
       "4       111534.0    d008  1991-04-08  9999-01-01  111534  1952-06-27   \n",
       "...          ...     ...         ...         ...     ...         ...   \n",
       "300019       NaN    None        None        None  492778  1962-09-21   \n",
       "300020       NaN    None        None        None  492779  1954-07-29   \n",
       "300021       NaN    None        None        None  492780  1955-06-05   \n",
       "300022       NaN    None        None        None  492781  1955-01-12   \n",
       "300023       NaN    None        None        None  492782  1962-07-10   \n",
       "\n",
       "       first_name    last_name gender   hire_date  \n",
       "0         Yuchang      Weedman      M  1989-07-10  \n",
       "1         Xiaobin     Spinelli      F  1991-08-17  \n",
       "2           Marjo   Giarratana      F  1988-02-12  \n",
       "3           Tonny  Butterworth      F  1985-01-01  \n",
       "4          Hilary       Kambil      F  1988-01-31  \n",
       "...           ...          ...    ...         ...  \n",
       "300019    Kasturi   Lakshmanan      M  1986-12-01  \n",
       "300020     Wilmer      Matteis      M  1998-03-17  \n",
       "300021       Mana         Erva      F  1992-06-23  \n",
       "300022    Khedija    Fritzsche      M  1989-11-12  \n",
       "300023     Yahiko     Ratnakar      M  1989-05-20  \n",
       "\n",
       "[300024 rows x 10 columns]"
      ]
     },
     "execution_count": 324,
     "metadata": {},
     "output_type": "execute_result"
    }
   ],
   "source": [
    "df "
   ]
  },
  {
   "cell_type": "code",
   "execution_count": 326,
   "id": "4f51a0fc-24a3-4b27-be3f-35304e95c694",
   "metadata": {
    "tags": []
   },
   "outputs": [
    {
     "data": {
      "text/html": [
       "<div>\n",
       "<style scoped>\n",
       "    .dataframe tbody tr th:only-of-type {\n",
       "        vertical-align: middle;\n",
       "    }\n",
       "\n",
       "    .dataframe tbody tr th {\n",
       "        vertical-align: top;\n",
       "    }\n",
       "\n",
       "    .dataframe thead th {\n",
       "        text-align: right;\n",
       "    }\n",
       "</style>\n",
       "<table border=\"1\" class=\"dataframe\">\n",
       "  <thead>\n",
       "    <tr style=\"text-align: right;\">\n",
       "      <th></th>\n",
       "      <th>emp_no</th>\n",
       "      <th>dept_no</th>\n",
       "      <th>from_date</th>\n",
       "      <th>to_date</th>\n",
       "      <th>emp_no</th>\n",
       "      <th>birth_date</th>\n",
       "      <th>first_name</th>\n",
       "      <th>last_name</th>\n",
       "      <th>gender</th>\n",
       "      <th>hire_date</th>\n",
       "      <th>is_manager</th>\n",
       "    </tr>\n",
       "  </thead>\n",
       "  <tbody>\n",
       "    <tr>\n",
       "      <th>0</th>\n",
       "      <td>111939.0</td>\n",
       "      <td>d009</td>\n",
       "      <td>1996-01-03</td>\n",
       "      <td>9999-01-01</td>\n",
       "      <td>111939</td>\n",
       "      <td>1960-03-25</td>\n",
       "      <td>Yuchang</td>\n",
       "      <td>Weedman</td>\n",
       "      <td>M</td>\n",
       "      <td>1989-07-10</td>\n",
       "      <td>True</td>\n",
       "    </tr>\n",
       "    <tr>\n",
       "      <th>1</th>\n",
       "      <td>111877.0</td>\n",
       "      <td>d009</td>\n",
       "      <td>1992-09-08</td>\n",
       "      <td>1996-01-03</td>\n",
       "      <td>111877</td>\n",
       "      <td>1962-10-18</td>\n",
       "      <td>Xiaobin</td>\n",
       "      <td>Spinelli</td>\n",
       "      <td>F</td>\n",
       "      <td>1991-08-17</td>\n",
       "      <td>True</td>\n",
       "    </tr>\n",
       "    <tr>\n",
       "      <th>2</th>\n",
       "      <td>111784.0</td>\n",
       "      <td>d009</td>\n",
       "      <td>1988-10-17</td>\n",
       "      <td>1992-09-08</td>\n",
       "      <td>111784</td>\n",
       "      <td>1956-06-14</td>\n",
       "      <td>Marjo</td>\n",
       "      <td>Giarratana</td>\n",
       "      <td>F</td>\n",
       "      <td>1988-02-12</td>\n",
       "      <td>True</td>\n",
       "    </tr>\n",
       "    <tr>\n",
       "      <th>3</th>\n",
       "      <td>111692.0</td>\n",
       "      <td>d009</td>\n",
       "      <td>1985-01-01</td>\n",
       "      <td>1988-10-17</td>\n",
       "      <td>111692</td>\n",
       "      <td>1954-10-05</td>\n",
       "      <td>Tonny</td>\n",
       "      <td>Butterworth</td>\n",
       "      <td>F</td>\n",
       "      <td>1985-01-01</td>\n",
       "      <td>True</td>\n",
       "    </tr>\n",
       "    <tr>\n",
       "      <th>4</th>\n",
       "      <td>111534.0</td>\n",
       "      <td>d008</td>\n",
       "      <td>1991-04-08</td>\n",
       "      <td>9999-01-01</td>\n",
       "      <td>111534</td>\n",
       "      <td>1952-06-27</td>\n",
       "      <td>Hilary</td>\n",
       "      <td>Kambil</td>\n",
       "      <td>F</td>\n",
       "      <td>1988-01-31</td>\n",
       "      <td>True</td>\n",
       "    </tr>\n",
       "    <tr>\n",
       "      <th>...</th>\n",
       "      <td>...</td>\n",
       "      <td>...</td>\n",
       "      <td>...</td>\n",
       "      <td>...</td>\n",
       "      <td>...</td>\n",
       "      <td>...</td>\n",
       "      <td>...</td>\n",
       "      <td>...</td>\n",
       "      <td>...</td>\n",
       "      <td>...</td>\n",
       "      <td>...</td>\n",
       "    </tr>\n",
       "    <tr>\n",
       "      <th>300019</th>\n",
       "      <td>NaN</td>\n",
       "      <td>None</td>\n",
       "      <td>None</td>\n",
       "      <td>None</td>\n",
       "      <td>492778</td>\n",
       "      <td>1962-09-21</td>\n",
       "      <td>Kasturi</td>\n",
       "      <td>Lakshmanan</td>\n",
       "      <td>M</td>\n",
       "      <td>1986-12-01</td>\n",
       "      <td>False</td>\n",
       "    </tr>\n",
       "    <tr>\n",
       "      <th>300020</th>\n",
       "      <td>NaN</td>\n",
       "      <td>None</td>\n",
       "      <td>None</td>\n",
       "      <td>None</td>\n",
       "      <td>492779</td>\n",
       "      <td>1954-07-29</td>\n",
       "      <td>Wilmer</td>\n",
       "      <td>Matteis</td>\n",
       "      <td>M</td>\n",
       "      <td>1998-03-17</td>\n",
       "      <td>False</td>\n",
       "    </tr>\n",
       "    <tr>\n",
       "      <th>300021</th>\n",
       "      <td>NaN</td>\n",
       "      <td>None</td>\n",
       "      <td>None</td>\n",
       "      <td>None</td>\n",
       "      <td>492780</td>\n",
       "      <td>1955-06-05</td>\n",
       "      <td>Mana</td>\n",
       "      <td>Erva</td>\n",
       "      <td>F</td>\n",
       "      <td>1992-06-23</td>\n",
       "      <td>False</td>\n",
       "    </tr>\n",
       "    <tr>\n",
       "      <th>300022</th>\n",
       "      <td>NaN</td>\n",
       "      <td>None</td>\n",
       "      <td>None</td>\n",
       "      <td>None</td>\n",
       "      <td>492781</td>\n",
       "      <td>1955-01-12</td>\n",
       "      <td>Khedija</td>\n",
       "      <td>Fritzsche</td>\n",
       "      <td>M</td>\n",
       "      <td>1989-11-12</td>\n",
       "      <td>False</td>\n",
       "    </tr>\n",
       "    <tr>\n",
       "      <th>300023</th>\n",
       "      <td>NaN</td>\n",
       "      <td>None</td>\n",
       "      <td>None</td>\n",
       "      <td>None</td>\n",
       "      <td>492782</td>\n",
       "      <td>1962-07-10</td>\n",
       "      <td>Yahiko</td>\n",
       "      <td>Ratnakar</td>\n",
       "      <td>M</td>\n",
       "      <td>1989-05-20</td>\n",
       "      <td>False</td>\n",
       "    </tr>\n",
       "  </tbody>\n",
       "</table>\n",
       "<p>300024 rows × 11 columns</p>\n",
       "</div>"
      ],
      "text/plain": [
       "          emp_no dept_no   from_date     to_date  emp_no  birth_date  \\\n",
       "0       111939.0    d009  1996-01-03  9999-01-01  111939  1960-03-25   \n",
       "1       111877.0    d009  1992-09-08  1996-01-03  111877  1962-10-18   \n",
       "2       111784.0    d009  1988-10-17  1992-09-08  111784  1956-06-14   \n",
       "3       111692.0    d009  1985-01-01  1988-10-17  111692  1954-10-05   \n",
       "4       111534.0    d008  1991-04-08  9999-01-01  111534  1952-06-27   \n",
       "...          ...     ...         ...         ...     ...         ...   \n",
       "300019       NaN    None        None        None  492778  1962-09-21   \n",
       "300020       NaN    None        None        None  492779  1954-07-29   \n",
       "300021       NaN    None        None        None  492780  1955-06-05   \n",
       "300022       NaN    None        None        None  492781  1955-01-12   \n",
       "300023       NaN    None        None        None  492782  1962-07-10   \n",
       "\n",
       "       first_name    last_name gender   hire_date  is_manager  \n",
       "0         Yuchang      Weedman      M  1989-07-10        True  \n",
       "1         Xiaobin     Spinelli      F  1991-08-17        True  \n",
       "2           Marjo   Giarratana      F  1988-02-12        True  \n",
       "3           Tonny  Butterworth      F  1985-01-01        True  \n",
       "4          Hilary       Kambil      F  1988-01-31        True  \n",
       "...           ...          ...    ...         ...         ...  \n",
       "300019    Kasturi   Lakshmanan      M  1986-12-01       False  \n",
       "300020     Wilmer      Matteis      M  1998-03-17       False  \n",
       "300021       Mana         Erva      F  1992-06-23       False  \n",
       "300022    Khedija    Fritzsche      M  1989-11-12       False  \n",
       "300023     Yahiko     Ratnakar      M  1989-05-20       False  \n",
       "\n",
       "[300024 rows x 11 columns]"
      ]
     },
     "execution_count": 326,
     "metadata": {},
     "output_type": "execute_result"
    }
   ],
   "source": [
    "df['is_manager'] = df.to_date.notnull()\n",
    "df"
   ]
  },
  {
   "cell_type": "code",
   "execution_count": 327,
   "id": "ef038c1e-2001-454c-96cd-0edc49dbb664",
   "metadata": {
    "tags": []
   },
   "outputs": [],
   "source": [
    "observed = pd.crosstab(df.is_manager,df.gender)\n",
    "α = .05"
   ]
  },
  {
   "cell_type": "code",
   "execution_count": 328,
   "id": "ba3a203c-b44f-4f25-b0a5-5511c1e5d310",
   "metadata": {
    "tags": []
   },
   "outputs": [],
   "source": [
    "chi2, p, dof, expected = stats.chi2_contingency(observed)"
   ]
  },
  {
   "cell_type": "code",
   "execution_count": 329,
   "id": "8e74f4db-2fac-4a1d-854b-4eff728d8c47",
   "metadata": {
    "tags": []
   },
   "outputs": [
    {
     "name": "stdout",
     "output_type": "stream",
     "text": [
      "Observed\n",
      "[[120038 179962]\n",
      " [    13     11]]\n",
      "\n",
      "Expected\n",
      "[[120041 179958]\n",
      " [     9     14]]\n",
      "\n",
      "----\n",
      "chi^2 = 1.4567\n",
      "p     = 0.2275\n"
     ]
    }
   ],
   "source": [
    "print('Observed')\n",
    "print(observed.values)\n",
    "print('\\nExpected')\n",
    "print(expected.astype(int))\n",
    "print('\\n----')\n",
    "print(f'chi^2 = {chi2:.4f}')\n",
    "print(f'p     = {p:.4f}')"
   ]
  },
  {
   "cell_type": "code",
   "execution_count": 330,
   "id": "014cd6f4-27f7-40ca-9bf2-aa6a4d8e952f",
   "metadata": {
    "tags": []
   },
   "outputs": [
    {
     "name": "stdout",
     "output_type": "stream",
     "text": [
      "failed to reject the null hypothesis\n"
     ]
    }
   ],
   "source": [
    "if p < α:\n",
    "    print('reject the null hypothesis')\n",
    "else:\n",
    "    print('failed to reject the null hypothesis')"
   ]
  },
  {
   "cell_type": "markdown",
   "id": "e7af2fea-3756-4712-9dca-9c8965b00979",
   "metadata": {},
   "source": [
    ">We have concluded that there is NO relationship between an employee's gender & if they are/have been a manager"
   ]
  },
  {
   "cell_type": "markdown",
   "id": "3640e189-fd79-4d76-bf5c-696d92e6f140",
   "metadata": {},
   "source": [
    "# Correlation"
   ]
  },
  {
   "cell_type": "markdown",
   "id": "15508172-57ed-4b5d-883b-817d797dc816",
   "metadata": {},
   "source": [
    "### 1. Answer with the type of stats test you would use (assume normal distribution):"
   ]
  },
  {
   "cell_type": "markdown",
   "id": "d7f8df46-8f95-42d2-8986-2948232e0537",
   "metadata": {},
   "source": [
    "* Is there a relationship between the length of your arm and the length of your foot?"
   ]
  },
  {
   "cell_type": "markdown",
   "id": "fa8033a3-1f30-4e2b-9777-72bb9c3d481b",
   "metadata": {},
   "source": [
    "> Pearson's R"
   ]
  },
  {
   "cell_type": "markdown",
   "id": "2b359933-868e-46a1-9ab0-200d84ced1b6",
   "metadata": {},
   "source": [
    "* Does smoking affect when or not someone has lung cancer?"
   ]
  },
  {
   "cell_type": "markdown",
   "id": "a28fbca9-7011-459c-9a7a-7549a9922bd6",
   "metadata": {},
   "source": [
    "> $\\chi^2$"
   ]
  },
  {
   "cell_type": "markdown",
   "id": "9b95d028-744e-4c66-a64b-5b7e4b1652ea",
   "metadata": {},
   "source": [
    "* Is gender independent of a person’s blood type?"
   ]
  },
  {
   "cell_type": "markdown",
   "id": "88f5f1c3-8859-4970-a930-759fa5c01369",
   "metadata": {},
   "source": [
    "> $\\chi^2$"
   ]
  },
  {
   "cell_type": "markdown",
   "id": "21aa6515-8ca5-451d-8e5b-b54fff66f10e",
   "metadata": {},
   "source": [
    "* Does whether or not a person has a cat or dog affect whether they live in an apartment?"
   ]
  },
  {
   "cell_type": "markdown",
   "id": "81f6e0b4-ac55-4ba2-9924-35e3e618d9fd",
   "metadata": {},
   "source": [
    "> $\\chi^2$"
   ]
  },
  {
   "cell_type": "markdown",
   "id": "80a4c3c3-f958-48f5-adfe-3568c5054789",
   "metadata": {},
   "source": [
    "* Does the length of time of the lecture correlate with a student's grade?"
   ]
  },
  {
   "cell_type": "markdown",
   "id": "0d0dd6b2-2f21-4df5-8a1b-8c817c922966",
   "metadata": {},
   "source": [
    "> Pearson's R"
   ]
  },
  {
   "cell_type": "markdown",
   "id": "5ca2ad6c-ac91-4778-b623-b0b3a6625abc",
   "metadata": {},
   "source": [
    "### 2. Use the `telco_churn` data."
   ]
  },
  {
   "cell_type": "code",
   "execution_count": 8,
   "id": "e3f17bb1-69cb-4225-bb09-8b6bcd269d6e",
   "metadata": {
    "tags": []
   },
   "outputs": [],
   "source": [
    "import env\n",
    "url = env.get_db_url('telco_churn')"
   ]
  },
  {
   "cell_type": "code",
   "execution_count": 164,
   "id": "437aacd2-21e1-47cd-be24-120b4549639c",
   "metadata": {
    "tags": []
   },
   "outputs": [],
   "source": [
    "query = '''\n",
    "select *\n",
    "from customers\n",
    "join internet_service_types\n",
    "\tusing (internet_service_type_id);\n",
    "'''\n",
    "df = pd.read_sql(query, url)"
   ]
  },
  {
   "cell_type": "markdown",
   "id": "4ca8363d-1c0a-41a1-aa59-b530a8145a41",
   "metadata": {},
   "source": [
    "* Does tenure correlate with monthly charges?"
   ]
  },
  {
   "cell_type": "code",
   "execution_count": 165,
   "id": "73c5057d-62c0-4162-8473-9780979d0361",
   "metadata": {},
   "outputs": [],
   "source": [
    "r, p = stats.pearsonr(df.tenure,df.monthly_charges)\n",
    "α = .05"
   ]
  },
  {
   "cell_type": "code",
   "execution_count": 166,
   "id": "26ed5b60-6621-4bb3-b3e0-c9223965194c",
   "metadata": {
    "tags": []
   },
   "outputs": [
    {
     "name": "stdout",
     "output_type": "stream",
     "text": [
      "reject the null hypothesis\n"
     ]
    }
   ],
   "source": [
    "if p < α:\n",
    "    print('reject the null hypothesis')\n",
    "else:\n",
    "    print('failed to reject the null hypothesis')"
   ]
  },
  {
   "cell_type": "markdown",
   "id": "1a336910-800c-4469-a2cc-6237c0fcfc67",
   "metadata": {},
   "source": [
    "> There is a linear relationship between tenure & monthly charges"
   ]
  },
  {
   "cell_type": "markdown",
   "id": "e492aa2a-3c7c-4488-9d8e-a15ead338d0c",
   "metadata": {},
   "source": [
    "* Total charges?"
   ]
  },
  {
   "cell_type": "code",
   "execution_count": 167,
   "id": "a3d09cac-3b9f-458d-ae5a-878ff8c32969",
   "metadata": {
    "tags": []
   },
   "outputs": [],
   "source": [
    "df['total_charges'] = df.total_charges.str.strip()"
   ]
  },
  {
   "cell_type": "code",
   "execution_count": 168,
   "id": "929ec6a5-f59d-4321-8af7-eaebcd6badd5",
   "metadata": {
    "tags": []
   },
   "outputs": [
    {
     "name": "stdout",
     "output_type": "stream",
     "text": [
      "<class 'pandas.core.frame.DataFrame'>\n",
      "RangeIndex: 7043 entries, 0 to 7042\n",
      "Data columns (total 22 columns):\n",
      " #   Column                    Non-Null Count  Dtype  \n",
      "---  ------                    --------------  -----  \n",
      " 0   internet_service_type_id  7043 non-null   int64  \n",
      " 1   customer_id               7043 non-null   object \n",
      " 2   gender                    7043 non-null   object \n",
      " 3   senior_citizen            7043 non-null   int64  \n",
      " 4   partner                   7043 non-null   object \n",
      " 5   dependents                7043 non-null   object \n",
      " 6   tenure                    7043 non-null   int64  \n",
      " 7   phone_service             7043 non-null   object \n",
      " 8   multiple_lines            7043 non-null   object \n",
      " 9   online_security           7043 non-null   object \n",
      " 10  online_backup             7043 non-null   object \n",
      " 11  device_protection         7043 non-null   object \n",
      " 12  tech_support              7043 non-null   object \n",
      " 13  streaming_tv              7043 non-null   object \n",
      " 14  streaming_movies          7043 non-null   object \n",
      " 15  contract_type_id          7043 non-null   int64  \n",
      " 16  paperless_billing         7043 non-null   object \n",
      " 17  payment_type_id           7043 non-null   int64  \n",
      " 18  monthly_charges           7043 non-null   float64\n",
      " 19  total_charges             7043 non-null   object \n",
      " 20  churn                     7043 non-null   object \n",
      " 21  internet_service_type     7043 non-null   object \n",
      "dtypes: float64(1), int64(5), object(16)\n",
      "memory usage: 1.2+ MB\n"
     ]
    }
   ],
   "source": [
    "df.info()"
   ]
  },
  {
   "cell_type": "code",
   "execution_count": 169,
   "id": "9618ce3c-3825-42f0-acf4-51f3d6be35aa",
   "metadata": {
    "tags": []
   },
   "outputs": [],
   "source": [
    "df = df[df.total_charges != '']"
   ]
  },
  {
   "cell_type": "code",
   "execution_count": 170,
   "id": "3ddf7a1a-2ba7-4807-9c43-943c136d846f",
   "metadata": {
    "tags": []
   },
   "outputs": [],
   "source": [
    "df['total_charges'] = df.total_charges.astype(float)"
   ]
  },
  {
   "cell_type": "code",
   "execution_count": 171,
   "id": "e19c6498-ea57-4cd4-96df-9bf422d175b2",
   "metadata": {
    "tags": []
   },
   "outputs": [
    {
     "name": "stdout",
     "output_type": "stream",
     "text": [
      "<class 'pandas.core.frame.DataFrame'>\n",
      "Index: 7032 entries, 0 to 7042\n",
      "Data columns (total 22 columns):\n",
      " #   Column                    Non-Null Count  Dtype  \n",
      "---  ------                    --------------  -----  \n",
      " 0   internet_service_type_id  7032 non-null   int64  \n",
      " 1   customer_id               7032 non-null   object \n",
      " 2   gender                    7032 non-null   object \n",
      " 3   senior_citizen            7032 non-null   int64  \n",
      " 4   partner                   7032 non-null   object \n",
      " 5   dependents                7032 non-null   object \n",
      " 6   tenure                    7032 non-null   int64  \n",
      " 7   phone_service             7032 non-null   object \n",
      " 8   multiple_lines            7032 non-null   object \n",
      " 9   online_security           7032 non-null   object \n",
      " 10  online_backup             7032 non-null   object \n",
      " 11  device_protection         7032 non-null   object \n",
      " 12  tech_support              7032 non-null   object \n",
      " 13  streaming_tv              7032 non-null   object \n",
      " 14  streaming_movies          7032 non-null   object \n",
      " 15  contract_type_id          7032 non-null   int64  \n",
      " 16  paperless_billing         7032 non-null   object \n",
      " 17  payment_type_id           7032 non-null   int64  \n",
      " 18  monthly_charges           7032 non-null   float64\n",
      " 19  total_charges             7032 non-null   float64\n",
      " 20  churn                     7032 non-null   object \n",
      " 21  internet_service_type     7032 non-null   object \n",
      "dtypes: float64(2), int64(5), object(15)\n",
      "memory usage: 1.2+ MB\n"
     ]
    }
   ],
   "source": [
    "df.info()"
   ]
  },
  {
   "cell_type": "code",
   "execution_count": 172,
   "id": "d4efd508-ccdc-458e-b653-4e80c4ecf3dd",
   "metadata": {},
   "outputs": [],
   "source": [
    "stats.pearsonr(df.tenure,df.total_charges)\n",
    "α = .05"
   ]
  },
  {
   "cell_type": "code",
   "execution_count": 173,
   "id": "3e7ac56d-26ce-407c-b2f9-ded779ea7818",
   "metadata": {
    "tags": []
   },
   "outputs": [
    {
     "name": "stdout",
     "output_type": "stream",
     "text": [
      "reject the null hypothesis\n"
     ]
    }
   ],
   "source": [
    "if p < α:\n",
    "    print('reject the null hypothesis')\n",
    "else:\n",
    "    print('failed to reject the null hypothesis')"
   ]
  },
  {
   "cell_type": "markdown",
   "id": "2ccb62fb-61a1-4df5-9570-59ca0e637e95",
   "metadata": {},
   "source": [
    "> There is a linear relationship between tenure & total charges"
   ]
  },
  {
   "cell_type": "markdown",
   "id": "7e2ed8ee-33c0-4c04-9e2a-cce39f5bc587",
   "metadata": {},
   "source": [
    "* What happens if you control for phone and internet service?"
   ]
  },
  {
   "cell_type": "code",
   "execution_count": 184,
   "id": "ce3aee9a-b026-4840-ac85-2c51808693da",
   "metadata": {},
   "outputs": [],
   "source": [
    "df['has_internet'] = df.internet_service_type != 'None'"
   ]
  },
  {
   "cell_type": "code",
   "execution_count": 185,
   "id": "16d8da20-2f8e-4eb7-9307-2c7f5d397244",
   "metadata": {
    "tags": []
   },
   "outputs": [
    {
     "data": {
      "text/plain": [
       "has_internet\n",
       "True     5512\n",
       "False    1520\n",
       "Name: count, dtype: int64"
      ]
     },
     "execution_count": 185,
     "metadata": {},
     "output_type": "execute_result"
    }
   ],
   "source": [
    "df.has_internet.value_counts()"
   ]
  },
  {
   "cell_type": "code",
   "execution_count": 186,
   "id": "2c99174b-416d-4fa6-a9f1-a05a7f96a082",
   "metadata": {},
   "outputs": [
    {
     "data": {
      "text/html": [
       "<div>\n",
       "<style scoped>\n",
       "    .dataframe tbody tr th:only-of-type {\n",
       "        vertical-align: middle;\n",
       "    }\n",
       "\n",
       "    .dataframe tbody tr th {\n",
       "        vertical-align: top;\n",
       "    }\n",
       "\n",
       "    .dataframe thead th {\n",
       "        text-align: right;\n",
       "    }\n",
       "</style>\n",
       "<table border=\"1\" class=\"dataframe\">\n",
       "  <thead>\n",
       "    <tr style=\"text-align: right;\">\n",
       "      <th></th>\n",
       "      <th>phone_service</th>\n",
       "      <th>tenure</th>\n",
       "      <th>monthly_charges</th>\n",
       "      <th>total_charges</th>\n",
       "      <th>has_internet</th>\n",
       "    </tr>\n",
       "  </thead>\n",
       "  <tbody>\n",
       "    <tr>\n",
       "      <th>0</th>\n",
       "      <td>Yes</td>\n",
       "      <td>9</td>\n",
       "      <td>65.60</td>\n",
       "      <td>593.30</td>\n",
       "      <td>True</td>\n",
       "    </tr>\n",
       "    <tr>\n",
       "      <th>1</th>\n",
       "      <td>Yes</td>\n",
       "      <td>9</td>\n",
       "      <td>59.90</td>\n",
       "      <td>542.40</td>\n",
       "      <td>True</td>\n",
       "    </tr>\n",
       "    <tr>\n",
       "      <th>2</th>\n",
       "      <td>Yes</td>\n",
       "      <td>4</td>\n",
       "      <td>73.90</td>\n",
       "      <td>280.85</td>\n",
       "      <td>True</td>\n",
       "    </tr>\n",
       "    <tr>\n",
       "      <th>3</th>\n",
       "      <td>Yes</td>\n",
       "      <td>13</td>\n",
       "      <td>98.00</td>\n",
       "      <td>1237.85</td>\n",
       "      <td>True</td>\n",
       "    </tr>\n",
       "    <tr>\n",
       "      <th>4</th>\n",
       "      <td>Yes</td>\n",
       "      <td>3</td>\n",
       "      <td>83.90</td>\n",
       "      <td>267.40</td>\n",
       "      <td>True</td>\n",
       "    </tr>\n",
       "    <tr>\n",
       "      <th>...</th>\n",
       "      <td>...</td>\n",
       "      <td>...</td>\n",
       "      <td>...</td>\n",
       "      <td>...</td>\n",
       "      <td>...</td>\n",
       "    </tr>\n",
       "    <tr>\n",
       "      <th>7038</th>\n",
       "      <td>Yes</td>\n",
       "      <td>13</td>\n",
       "      <td>55.15</td>\n",
       "      <td>742.90</td>\n",
       "      <td>True</td>\n",
       "    </tr>\n",
       "    <tr>\n",
       "      <th>7039</th>\n",
       "      <td>Yes</td>\n",
       "      <td>22</td>\n",
       "      <td>85.10</td>\n",
       "      <td>1873.70</td>\n",
       "      <td>True</td>\n",
       "    </tr>\n",
       "    <tr>\n",
       "      <th>7040</th>\n",
       "      <td>Yes</td>\n",
       "      <td>2</td>\n",
       "      <td>50.30</td>\n",
       "      <td>92.75</td>\n",
       "      <td>True</td>\n",
       "    </tr>\n",
       "    <tr>\n",
       "      <th>7041</th>\n",
       "      <td>Yes</td>\n",
       "      <td>67</td>\n",
       "      <td>67.85</td>\n",
       "      <td>4627.65</td>\n",
       "      <td>True</td>\n",
       "    </tr>\n",
       "    <tr>\n",
       "      <th>7042</th>\n",
       "      <td>No</td>\n",
       "      <td>63</td>\n",
       "      <td>59.00</td>\n",
       "      <td>3707.60</td>\n",
       "      <td>True</td>\n",
       "    </tr>\n",
       "  </tbody>\n",
       "</table>\n",
       "<p>7032 rows × 5 columns</p>\n",
       "</div>"
      ],
      "text/plain": [
       "     phone_service  tenure  monthly_charges  total_charges  has_internet\n",
       "0              Yes       9            65.60         593.30          True\n",
       "1              Yes       9            59.90         542.40          True\n",
       "2              Yes       4            73.90         280.85          True\n",
       "3              Yes      13            98.00        1237.85          True\n",
       "4              Yes       3            83.90         267.40          True\n",
       "...            ...     ...              ...            ...           ...\n",
       "7038           Yes      13            55.15         742.90          True\n",
       "7039           Yes      22            85.10        1873.70          True\n",
       "7040           Yes       2            50.30          92.75          True\n",
       "7041           Yes      67            67.85        4627.65          True\n",
       "7042            No      63            59.00        3707.60          True\n",
       "\n",
       "[7032 rows x 5 columns]"
      ]
     },
     "execution_count": 186,
     "metadata": {},
     "output_type": "execute_result"
    }
   ],
   "source": [
    "df[['phone_service','tenure','monthly_charges','total_charges','has_internet']]"
   ]
  },
  {
   "cell_type": "code",
   "execution_count": 195,
   "id": "2556fc5d-56fb-49a5-897d-fedfb8caae76",
   "metadata": {},
   "outputs": [],
   "source": [
    "with_internet = df[df.has_internet == True]\n",
    "without_internet = df[df.has_internet == False]\n",
    "\n",
    "with_phone_service = df[df.phone_service == 'Yes']\n",
    "without_phone_service = df[df.phone_service == 'No']"
   ]
  },
  {
   "cell_type": "code",
   "execution_count": 198,
   "id": "97305caf-3d48-4604-8bbf-6b9c0066957e",
   "metadata": {},
   "outputs": [
    {
     "name": "stdout",
     "output_type": "stream",
     "text": [
      "reject the null hypothesis\n"
     ]
    }
   ],
   "source": [
    "stats.pearsonr(with_phone_service.tenure,with_phone_service.monthly_charges)\n",
    "α = .05\n",
    "\n",
    "if p < α:\n",
    "    print('reject the null hypothesis')\n",
    "else:\n",
    "    print('failed to reject the null hypothesis')"
   ]
  },
  {
   "cell_type": "code",
   "execution_count": 201,
   "id": "599c0ae0-9257-4297-9a3d-6b1fce51068d",
   "metadata": {},
   "outputs": [
    {
     "name": "stdout",
     "output_type": "stream",
     "text": [
      "reject the null hypothesis\n"
     ]
    }
   ],
   "source": [
    "stats.pearsonr(without_phone_service.tenure,without_phone_service.monthly_charges)\n",
    "α = .05\n",
    "\n",
    "if p < α:\n",
    "    print('reject the null hypothesis')\n",
    "else:\n",
    "    print('failed to reject the null hypothesis')"
   ]
  },
  {
   "cell_type": "code",
   "execution_count": 202,
   "id": "7c933f3b-e0ef-41bf-9d05-78516b136362",
   "metadata": {
    "tags": []
   },
   "outputs": [
    {
     "name": "stdout",
     "output_type": "stream",
     "text": [
      "reject the null hypothesis\n"
     ]
    }
   ],
   "source": [
    "stats.pearsonr(with_phone_service.tenure,with_phone_service.total_charges)\n",
    "α = .05\n",
    "\n",
    "if p < α:\n",
    "    print('reject the null hypothesis')\n",
    "else:\n",
    "    print('failed to reject the null hypothesis')"
   ]
  },
  {
   "cell_type": "code",
   "execution_count": 203,
   "id": "b449c202-fea8-41f3-8013-08dbce6231a5",
   "metadata": {
    "tags": []
   },
   "outputs": [
    {
     "name": "stdout",
     "output_type": "stream",
     "text": [
      "reject the null hypothesis\n"
     ]
    }
   ],
   "source": [
    "stats.pearsonr(without_phone_service.tenure,without_phone_service.total_charges)\n",
    "α = .05\n",
    "\n",
    "if p < α:\n",
    "    print('reject the null hypothesis')\n",
    "else:\n",
    "    print('failed to reject the null hypothesis')"
   ]
  },
  {
   "cell_type": "code",
   "execution_count": 207,
   "id": "8b5a381b-b966-4ad8-96d3-ba5c9ec4f6cd",
   "metadata": {
    "tags": []
   },
   "outputs": [
    {
     "name": "stdout",
     "output_type": "stream",
     "text": [
      "reject the null hypothesis\n"
     ]
    }
   ],
   "source": [
    "stats.pearsonr(with_internet.tenure,with_internet.monthly_charges)\n",
    "α = .05\n",
    "\n",
    "if p < α:\n",
    "    print('reject the null hypothesis')\n",
    "else:\n",
    "    print('failed to reject the null hypothesis')"
   ]
  },
  {
   "cell_type": "code",
   "execution_count": 206,
   "id": "0ccb9ce0-49f5-45db-8f18-aec3c7f99986",
   "metadata": {
    "tags": []
   },
   "outputs": [
    {
     "name": "stdout",
     "output_type": "stream",
     "text": [
      "reject the null hypothesis\n"
     ]
    }
   ],
   "source": [
    "stats.pearsonr(with_internet.tenure,with_internet.total_charges)\n",
    "α = .05\n",
    "\n",
    "if p < α:\n",
    "    print('reject the null hypothesis')\n",
    "else:\n",
    "    print('failed to reject the null hypothesis')"
   ]
  },
  {
   "cell_type": "code",
   "execution_count": 204,
   "id": "6dca0e94-9d0b-43a9-9030-a32818b12385",
   "metadata": {
    "tags": []
   },
   "outputs": [
    {
     "name": "stdout",
     "output_type": "stream",
     "text": [
      "reject the null hypothesis\n"
     ]
    }
   ],
   "source": [
    "stats.pearsonr(without_internet.tenure,without_internet.monthly_charges)\n",
    "α = .05\n",
    "\n",
    "if p < α:\n",
    "    print('reject the null hypothesis')\n",
    "else:\n",
    "    print('failed to reject the null hypothesis')"
   ]
  },
  {
   "cell_type": "code",
   "execution_count": 205,
   "id": "c01844d9-40eb-4854-a69d-dc52b1df9f6d",
   "metadata": {
    "tags": []
   },
   "outputs": [
    {
     "name": "stdout",
     "output_type": "stream",
     "text": [
      "reject the null hypothesis\n"
     ]
    }
   ],
   "source": [
    "stats.pearsonr(without_internet.tenure,without_internet.total_charges)\n",
    "α = .05\n",
    "\n",
    "if p < α:\n",
    "    print('reject the null hypothesis')\n",
    "else:\n",
    "    print('failed to reject the null hypothesis')"
   ]
  },
  {
   "cell_type": "markdown",
   "id": "ec98454d-4035-4960-aa43-5e82f3bfa00f",
   "metadata": {},
   "source": [
    "### 3. Use the employees database."
   ]
  },
  {
   "cell_type": "code",
   "execution_count": 210,
   "id": "9055bc30-66d8-4afd-9192-df82e2ff2dc7",
   "metadata": {
    "tags": []
   },
   "outputs": [],
   "source": [
    "url = env.get_db_url('employees')"
   ]
  },
  {
   "cell_type": "code",
   "execution_count": 211,
   "id": "6a24c0c2-1051-44ac-8432-ac41bdc75576",
   "metadata": {
    "tags": []
   },
   "outputs": [],
   "source": [
    "query = '''\n",
    "select *\n",
    " from employees\n",
    "join salaries\n",
    "using(emp_no);\n",
    "'''\n",
    "df = pd.read_sql(query, url)"
   ]
  },
  {
   "cell_type": "markdown",
   "id": "f1a92032-292a-4394-a0f8-a3c591bc4c77",
   "metadata": {},
   "source": [
    "* Is there a relationship between how long an employee has been with the company and their salary?"
   ]
  },
  {
   "cell_type": "code",
   "execution_count": 212,
   "id": "f72b4d61-287f-4558-993a-ea3f633bc818",
   "metadata": {
    "tags": []
   },
   "outputs": [
    {
     "data": {
      "text/html": [
       "<div>\n",
       "<style scoped>\n",
       "    .dataframe tbody tr th:only-of-type {\n",
       "        vertical-align: middle;\n",
       "    }\n",
       "\n",
       "    .dataframe tbody tr th {\n",
       "        vertical-align: top;\n",
       "    }\n",
       "\n",
       "    .dataframe thead th {\n",
       "        text-align: right;\n",
       "    }\n",
       "</style>\n",
       "<table border=\"1\" class=\"dataframe\">\n",
       "  <thead>\n",
       "    <tr style=\"text-align: right;\">\n",
       "      <th></th>\n",
       "      <th>emp_no</th>\n",
       "      <th>birth_date</th>\n",
       "      <th>first_name</th>\n",
       "      <th>last_name</th>\n",
       "      <th>gender</th>\n",
       "      <th>hire_date</th>\n",
       "      <th>salary</th>\n",
       "      <th>from_date</th>\n",
       "      <th>to_date</th>\n",
       "    </tr>\n",
       "  </thead>\n",
       "  <tbody>\n",
       "    <tr>\n",
       "      <th>0</th>\n",
       "      <td>10001</td>\n",
       "      <td>1953-09-02</td>\n",
       "      <td>Georgi</td>\n",
       "      <td>Facello</td>\n",
       "      <td>M</td>\n",
       "      <td>1986-06-26</td>\n",
       "      <td>60117</td>\n",
       "      <td>1986-06-26</td>\n",
       "      <td>1987-06-26</td>\n",
       "    </tr>\n",
       "    <tr>\n",
       "      <th>1</th>\n",
       "      <td>10001</td>\n",
       "      <td>1953-09-02</td>\n",
       "      <td>Georgi</td>\n",
       "      <td>Facello</td>\n",
       "      <td>M</td>\n",
       "      <td>1986-06-26</td>\n",
       "      <td>62102</td>\n",
       "      <td>1987-06-26</td>\n",
       "      <td>1988-06-25</td>\n",
       "    </tr>\n",
       "    <tr>\n",
       "      <th>2</th>\n",
       "      <td>10001</td>\n",
       "      <td>1953-09-02</td>\n",
       "      <td>Georgi</td>\n",
       "      <td>Facello</td>\n",
       "      <td>M</td>\n",
       "      <td>1986-06-26</td>\n",
       "      <td>66074</td>\n",
       "      <td>1988-06-25</td>\n",
       "      <td>1989-06-25</td>\n",
       "    </tr>\n",
       "    <tr>\n",
       "      <th>3</th>\n",
       "      <td>10001</td>\n",
       "      <td>1953-09-02</td>\n",
       "      <td>Georgi</td>\n",
       "      <td>Facello</td>\n",
       "      <td>M</td>\n",
       "      <td>1986-06-26</td>\n",
       "      <td>66596</td>\n",
       "      <td>1989-06-25</td>\n",
       "      <td>1990-06-25</td>\n",
       "    </tr>\n",
       "    <tr>\n",
       "      <th>4</th>\n",
       "      <td>10001</td>\n",
       "      <td>1953-09-02</td>\n",
       "      <td>Georgi</td>\n",
       "      <td>Facello</td>\n",
       "      <td>M</td>\n",
       "      <td>1986-06-26</td>\n",
       "      <td>66961</td>\n",
       "      <td>1990-06-25</td>\n",
       "      <td>1991-06-25</td>\n",
       "    </tr>\n",
       "    <tr>\n",
       "      <th>...</th>\n",
       "      <td>...</td>\n",
       "      <td>...</td>\n",
       "      <td>...</td>\n",
       "      <td>...</td>\n",
       "      <td>...</td>\n",
       "      <td>...</td>\n",
       "      <td>...</td>\n",
       "      <td>...</td>\n",
       "      <td>...</td>\n",
       "    </tr>\n",
       "    <tr>\n",
       "      <th>2844042</th>\n",
       "      <td>499999</td>\n",
       "      <td>1958-05-01</td>\n",
       "      <td>Sachin</td>\n",
       "      <td>Tsukuda</td>\n",
       "      <td>M</td>\n",
       "      <td>1997-11-30</td>\n",
       "      <td>63707</td>\n",
       "      <td>1997-11-30</td>\n",
       "      <td>1998-11-30</td>\n",
       "    </tr>\n",
       "    <tr>\n",
       "      <th>2844043</th>\n",
       "      <td>499999</td>\n",
       "      <td>1958-05-01</td>\n",
       "      <td>Sachin</td>\n",
       "      <td>Tsukuda</td>\n",
       "      <td>M</td>\n",
       "      <td>1997-11-30</td>\n",
       "      <td>67043</td>\n",
       "      <td>1998-11-30</td>\n",
       "      <td>1999-11-30</td>\n",
       "    </tr>\n",
       "    <tr>\n",
       "      <th>2844044</th>\n",
       "      <td>499999</td>\n",
       "      <td>1958-05-01</td>\n",
       "      <td>Sachin</td>\n",
       "      <td>Tsukuda</td>\n",
       "      <td>M</td>\n",
       "      <td>1997-11-30</td>\n",
       "      <td>70745</td>\n",
       "      <td>1999-11-30</td>\n",
       "      <td>2000-11-29</td>\n",
       "    </tr>\n",
       "    <tr>\n",
       "      <th>2844045</th>\n",
       "      <td>499999</td>\n",
       "      <td>1958-05-01</td>\n",
       "      <td>Sachin</td>\n",
       "      <td>Tsukuda</td>\n",
       "      <td>M</td>\n",
       "      <td>1997-11-30</td>\n",
       "      <td>74327</td>\n",
       "      <td>2000-11-29</td>\n",
       "      <td>2001-11-29</td>\n",
       "    </tr>\n",
       "    <tr>\n",
       "      <th>2844046</th>\n",
       "      <td>499999</td>\n",
       "      <td>1958-05-01</td>\n",
       "      <td>Sachin</td>\n",
       "      <td>Tsukuda</td>\n",
       "      <td>M</td>\n",
       "      <td>1997-11-30</td>\n",
       "      <td>77303</td>\n",
       "      <td>2001-11-29</td>\n",
       "      <td>9999-01-01</td>\n",
       "    </tr>\n",
       "  </tbody>\n",
       "</table>\n",
       "<p>2844047 rows × 9 columns</p>\n",
       "</div>"
      ],
      "text/plain": [
       "         emp_no  birth_date first_name last_name gender   hire_date  salary  \\\n",
       "0         10001  1953-09-02     Georgi   Facello      M  1986-06-26   60117   \n",
       "1         10001  1953-09-02     Georgi   Facello      M  1986-06-26   62102   \n",
       "2         10001  1953-09-02     Georgi   Facello      M  1986-06-26   66074   \n",
       "3         10001  1953-09-02     Georgi   Facello      M  1986-06-26   66596   \n",
       "4         10001  1953-09-02     Georgi   Facello      M  1986-06-26   66961   \n",
       "...         ...         ...        ...       ...    ...         ...     ...   \n",
       "2844042  499999  1958-05-01     Sachin   Tsukuda      M  1997-11-30   63707   \n",
       "2844043  499999  1958-05-01     Sachin   Tsukuda      M  1997-11-30   67043   \n",
       "2844044  499999  1958-05-01     Sachin   Tsukuda      M  1997-11-30   70745   \n",
       "2844045  499999  1958-05-01     Sachin   Tsukuda      M  1997-11-30   74327   \n",
       "2844046  499999  1958-05-01     Sachin   Tsukuda      M  1997-11-30   77303   \n",
       "\n",
       "          from_date     to_date  \n",
       "0        1986-06-26  1987-06-26  \n",
       "1        1987-06-26  1988-06-25  \n",
       "2        1988-06-25  1989-06-25  \n",
       "3        1989-06-25  1990-06-25  \n",
       "4        1990-06-25  1991-06-25  \n",
       "...             ...         ...  \n",
       "2844042  1997-11-30  1998-11-30  \n",
       "2844043  1998-11-30  1999-11-30  \n",
       "2844044  1999-11-30  2000-11-29  \n",
       "2844045  2000-11-29  2001-11-29  \n",
       "2844046  2001-11-29  9999-01-01  \n",
       "\n",
       "[2844047 rows x 9 columns]"
      ]
     },
     "execution_count": 212,
     "metadata": {},
     "output_type": "execute_result"
    }
   ],
   "source": [
    "df"
   ]
  },
  {
   "cell_type": "markdown",
   "id": "0c57bc03-3929-4c8e-96f8-aa323bce12da",
   "metadata": {},
   "source": [
    "* Is there a relationship between how long an employee has been with the company and the number of titles they have had?"
   ]
  },
  {
   "cell_type": "code",
   "execution_count": null,
   "id": "87c65edf-f84b-4a62-8baa-c91bc6ae1d2d",
   "metadata": {},
   "outputs": [],
   "source": []
  }
 ],
 "metadata": {
  "kernelspec": {
   "display_name": "Python 3 (ipykernel)",
   "language": "python",
   "name": "python3"
  },
  "language_info": {
   "codemirror_mode": {
    "name": "ipython",
    "version": 3
   },
   "file_extension": ".py",
   "mimetype": "text/x-python",
   "name": "python",
   "nbconvert_exporter": "python",
   "pygments_lexer": "ipython3",
   "version": "3.11.5"
  }
 },
 "nbformat": 4,
 "nbformat_minor": 5
}
