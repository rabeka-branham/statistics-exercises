{
 "cells": [
  {
   "cell_type": "markdown",
   "id": "805f8cad-3aee-4f94-bda6-76a0aadc38fd",
   "metadata": {},
   "source": [
    "### Exercises\n",
    "For each of the following questions, formulate a null and alternative hypothesis (be as specific as you can be), then give an example of what a true positive, true negative, type I and type II errors would look like. Note that some of the questions are intentionally phrased in a vague way. It is your job to reword these as more precise questions that could be tested."
   ]
  },
  {
   "cell_type": "markdown",
   "id": "a4e97167-ccc4-446f-9f08-74c443255b98",
   "metadata": {},
   "source": [
    "**Has the network latency gone up since we switched internet service providers?**"
   ]
  },
  {
   "cell_type": "markdown",
   "id": "febc74e7-b713-49aa-ad23-d03bb811b35a",
   "metadata": {},
   "source": [
    "* **H<sub>0</sub>:** The network latency has not changed since switching internet service providers.\n",
    "\n",
    "* **H<sub>1</sub>:** The network latency has increased since switching internet service providers.\n",
    "\n",
    "* **True Positive:** Rejecting the null hypothesis when the network latency has indeed increased since switching providers.\n",
    "\n",
    "* **True Negative:** Accepting the null hypothesis when the network latency has not changed since switching providers.\n",
    "\n",
    "* **Type I:** Incorrectly rejecting the null hypothesis, concluding that network latency has increased when it has not.\n",
    "\n",
    "* **Type II:** Incorrectly accepting the null hypothesis, failing to detect an increase in network latency when it has occurred."
   ]
  },
  {
   "cell_type": "markdown",
   "id": "2e0d92b8-0b95-4212-aeb6-8ecbf202fe71",
   "metadata": {},
   "source": [
    "**Is the website redesign any good?**"
   ]
  },
  {
   "cell_type": "markdown",
   "id": "cb07cd40-35b9-43c0-b725-1a6ffaba234a",
   "metadata": {
    "tags": []
   },
   "source": [
    "* **H<sub>0</sub>:**\n",
    "\n",
    "* **H<sub>1</sub>:**\n",
    "\n",
    "* **True Positive:**\n",
    "\n",
    "* **True Negative:**\n",
    "\n",
    "* **Type I:**\n",
    "\n",
    "* **Type II:**"
   ]
  },
  {
   "cell_type": "markdown",
   "id": "bfe76b83-3393-4d09-b89a-68521b7b262a",
   "metadata": {},
   "source": [
    "**Is our television ad driving more sales?**"
   ]
  },
  {
   "cell_type": "markdown",
   "id": "d5069790-b1f8-4fd2-aa56-10b52e6c5c48",
   "metadata": {},
   "source": [
    "* **H<sub>0</sub>:**\n",
    "\n",
    "* **H<sub>1</sub>:**\n",
    "\n",
    "* **True Positive:**\n",
    "\n",
    "* **True Negative:**\n",
    "\n",
    "* **Type I:**\n",
    "\n",
    "* **Type II:**"
   ]
  },
  {
   "cell_type": "code",
   "execution_count": null,
   "id": "e88f800d-4d15-4436-a50d-7fd3d1f2db7a",
   "metadata": {},
   "outputs": [],
   "source": []
  }
 ],
 "metadata": {
  "kernelspec": {
   "display_name": "Python 3 (ipykernel)",
   "language": "python",
   "name": "python3"
  },
  "language_info": {
   "codemirror_mode": {
    "name": "ipython",
    "version": 3
   },
   "file_extension": ".py",
   "mimetype": "text/x-python",
   "name": "python",
   "nbconvert_exporter": "python",
   "pygments_lexer": "ipython3",
   "version": "3.11.5"
  }
 },
 "nbformat": 4,
 "nbformat_minor": 5
}
