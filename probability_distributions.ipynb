{
 "cells": [
  {
   "cell_type": "markdown",
   "id": "a48f70b8-89a4-4c52-9b42-c1653e91c732",
   "metadata": {
    "tags": []
   },
   "source": [
    "# Exercises"
   ]
  },
  {
   "cell_type": "code",
   "execution_count": 1,
   "id": "b855fcbf-f973-4239-9303-9e576987d407",
   "metadata": {
    "tags": []
   },
   "outputs": [],
   "source": [
    "import matplotlib.pyplot as plt\n",
    "import numpy as np\n",
    "import pandas as pd\n",
    "from scipy import stats"
   ]
  },
  {
   "cell_type": "markdown",
   "id": "87da1887-cfdf-4c74-b52a-28997664912a",
   "metadata": {},
   "source": [
    "Do your work for this exercise in either a python script named probability_distributions.py or a jupyter notebook named probability_distributions.ipynb.\n",
    "\n",
    "For the following problems, use python to simulate the problem and calculate an experimental probability, then compare that to the theoretical probability."
   ]
  },
  {
   "cell_type": "markdown",
   "id": "54b510bc-4014-4df0-b156-ba2b9fd29d9b",
   "metadata": {},
   "source": [
    "### 1. A bank found that the average number of cars waiting during the noon hour at a drive-up window follows a Poisson distribution with a mean of 2 cars. Make a chart of this distribution and answer these questions concerning the probability of cars waiting at the drive-up window."
   ]
  },
  {
   "cell_type": "code",
   "execution_count": 2,
   "id": "26020472-e68c-4f30-8fae-19f7faa99ad1",
   "metadata": {},
   "outputs": [
    {
     "data": {
      "image/png": "[encoded data removed]",
      "text/plain": [
       "<Figure size 640x480 with 1 Axes>"
      ]
     },
     "metadata": {},
     "output_type": "display_data"
    }
   ],
   "source": [
    "λ = 2\n",
    "dist_1 = stats.poisson(λ)\n",
    "\n",
    "domain = np.arange(0, 11)\n",
    "bank_range = [dist_1.pmf(n) for n in domain]\n",
    "plt.bar(domain, bank_range)\n",
    "plt.show()"
   ]
  },
  {
   "cell_type": "markdown",
   "id": "f7751cbc-dc2e-45a3-83e8-ce206e6a0523",
   "metadata": {},
   "source": [
    ">What is the probability that no cars drive up in the noon hour?"
   ]
  },
  {
   "cell_type": "code",
   "execution_count": 5,
   "id": "0badfa47-29e3-4677-a177-f86a17077a7b",
   "metadata": {},
   "outputs": [
    {
     "data": {
      "text/plain": [
       "0.1353352832366127"
      ]
     },
     "execution_count": 5,
     "metadata": {},
     "output_type": "execute_result"
    }
   ],
   "source": [
    "dist_1.pmf(0)"
   ]
  },
  {
   "cell_type": "markdown",
   "id": "dc869d98-fe45-46c5-884c-f0035f6c8e61",
   "metadata": {},
   "source": [
    ">What is the probability that 3 or more cars come through the drive through?"
   ]
  },
  {
   "cell_type": "code",
   "execution_count": 150,
   "id": "8ed0904e-6cf4-4eb5-b7e9-03d0702b2e50",
   "metadata": {},
   "outputs": [
    {
     "data": {
      "text/plain": [
       "0.32332358381693654"
      ]
     },
     "execution_count": 150,
     "metadata": {},
     "output_type": "execute_result"
    }
   ],
   "source": [
    "dist_1.sf(2)"
   ]
  },
  {
   "cell_type": "markdown",
   "id": "56fd543b-8dfd-4658-b4b1-5061c08b824d",
   "metadata": {},
   "source": [
    ">How likely is it that the drive through gets at least 1 car?"
   ]
  },
  {
   "cell_type": "code",
   "execution_count": 151,
   "id": "391d4bb1-70dd-49d1-a309-64b50544a06d",
   "metadata": {},
   "outputs": [
    {
     "data": {
      "text/plain": [
       "0.8646647167633873"
      ]
     },
     "execution_count": 151,
     "metadata": {},
     "output_type": "execute_result"
    }
   ],
   "source": [
    "dist_1.sf(0)"
   ]
  },
  {
   "cell_type": "markdown",
   "id": "5d0b096b-791f-428d-bb8f-b8ab9edb23e6",
   "metadata": {},
   "source": [
    "### 2. Grades of State University graduates are normally distributed with a mean of 3.0 and a standard deviation of .3. Calculate the following:"
   ]
  },
  {
   "cell_type": "code",
   "execution_count": 6,
   "id": "421dce9c-72f0-492d-b1d5-aca07c03b842",
   "metadata": {
    "tags": []
   },
   "outputs": [],
   "source": [
    "μ = 3\n",
    "σ = .3\n",
    "dist_2 = stats.norm(μ, σ)"
   ]
  },
  {
   "cell_type": "markdown",
   "id": "e052ee4f-647f-47dc-aa41-d2438863f087",
   "metadata": {},
   "source": [
    ">What grade point average is required to be in the top 5% of the graduating class?"
   ]
  },
  {
   "cell_type": "code",
   "execution_count": 16,
   "id": "61843b61-6cd2-4cf1-ac3a-9c98d8c29189",
   "metadata": {
    "tags": []
   },
   "outputs": [
    {
     "data": {
      "text/plain": [
       "3.49"
      ]
     },
     "execution_count": 16,
     "metadata": {},
     "output_type": "execute_result"
    }
   ],
   "source": [
    "round(dist_2.isf(.05), 2)"
   ]
  },
  {
   "cell_type": "code",
   "execution_count": 17,
   "id": "4394b185-a3c5-4218-95cc-48b15254b085",
   "metadata": {
    "tags": []
   },
   "outputs": [
    {
     "data": {
      "text/plain": [
       "3.49"
      ]
     },
     "execution_count": 17,
     "metadata": {},
     "output_type": "execute_result"
    }
   ],
   "source": [
    "round(dist_2.ppf(.95), 2)"
   ]
  },
  {
   "cell_type": "markdown",
   "id": "81401c4b-6668-4adb-b3bb-41414eb120fe",
   "metadata": {},
   "source": [
    ">What GPA constitutes the bottom 15% of the class?"
   ]
  },
  {
   "cell_type": "code",
   "execution_count": 18,
   "id": "7d76a23f-296f-40c2-a685-097224b83fd0",
   "metadata": {
    "tags": []
   },
   "outputs": [
    {
     "data": {
      "text/plain": [
       "2.69"
      ]
     },
     "execution_count": 18,
     "metadata": {},
     "output_type": "execute_result"
    }
   ],
   "source": [
    "round(dist_2.ppf(.15), 2)"
   ]
  },
  {
   "cell_type": "code",
   "execution_count": 19,
   "id": "7a2e0f4b-45c1-4b64-8553-fab062423041",
   "metadata": {
    "tags": []
   },
   "outputs": [
    {
     "data": {
      "text/plain": [
       "2.69"
      ]
     },
     "execution_count": 19,
     "metadata": {},
     "output_type": "execute_result"
    }
   ],
   "source": [
    "round(dist_2.isf(.85), 2)"
   ]
  },
  {
   "cell_type": "markdown",
   "id": "e788d3ce-ff63-416a-a23f-2af1577e0e46",
   "metadata": {},
   "source": [
    ">An eccentric alumnus left scholarship money for students in the third decile from the bottom of their class. Determine the range of the third decile. Would a student with a 2.8 grade point average qualify for this scholarship?"
   ]
  },
  {
   "cell_type": "code",
   "execution_count": 27,
   "id": "b9a3f00b-1d77-484e-8fbe-587cc373bc04",
   "metadata": {
    "tags": []
   },
   "outputs": [
    {
     "name": "stdout",
     "output_type": "stream",
     "text": [
      "Range: 2.75 - 2.84\n"
     ]
    },
    {
     "data": {
      "text/plain": [
       "True"
      ]
     },
     "execution_count": 27,
     "metadata": {},
     "output_type": "execute_result"
    }
   ],
   "source": [
    "upper_limit = dist_2.ppf(.30)\n",
    "lower_limit = dist_2.ppf(.20)\n",
    "print(f'Range: {lower_limit:.2f} - {upper_limit:.2f}')\n",
    "\n",
    "candidate_grade = 2.8\n",
    "lower_limit <= candidate_grade <= upper_limit"
   ]
  },
  {
   "cell_type": "markdown",
   "id": "21a157d5-886c-4780-bfe7-120a6d9a4f16",
   "metadata": {},
   "source": [
    ">If I have a GPA of 3.5, what percentile am I in?"
   ]
  },
  {
   "cell_type": "code",
   "execution_count": 25,
   "id": "6b85dcb2-3468-4fda-99fe-f6d8b20ffad6",
   "metadata": {},
   "outputs": [
    {
     "data": {
      "text/plain": [
       "0.0477903522728147"
      ]
     },
     "execution_count": 25,
     "metadata": {},
     "output_type": "execute_result"
    }
   ],
   "source": [
    "dist_2.sf(3.5)"
   ]
  },
  {
   "cell_type": "markdown",
   "id": "ff7e905f-fa76-4605-8362-2e7c178c6517",
   "metadata": {
    "tags": []
   },
   "source": [
    "### 3. A marketing website has an average click-through rate of 2%. One day they observe 4326 visitors and 97 click-throughs. How likely is it that this many people or more click through?"
   ]
  },
  {
   "cell_type": "code",
   "execution_count": 29,
   "id": "04d029cd-7d47-462e-950a-7cf7269b492f",
   "metadata": {
    "tags": []
   },
   "outputs": [
    {
     "data": {
      "text/plain": [
       "0.13975823631416448"
      ]
     },
     "execution_count": 29,
     "metadata": {},
     "output_type": "execute_result"
    }
   ],
   "source": [
    "dist_3 = stats.binom(4326, 0.02)\n",
    "dist_3.sf(96)"
   ]
  },
  {
   "cell_type": "markdown",
   "id": "dc627965-7f66-44c7-8ca5-505aac69311f",
   "metadata": {
    "tags": []
   },
   "source": [
    "### 4. You are working on some statistics homework consisting of 100 questions where all of the answers are a probability rounded to the hundreths place. Looking to save time, you put down random probabilities as the answer to each question."
   ]
  },
  {
   "cell_type": "code",
   "execution_count": 42,
   "id": "3d351c2a-ca03-4581-9a91-ceefde4d2096",
   "metadata": {
    "tags": []
   },
   "outputs": [
    {
     "data": {
      "text/plain": [
       "0.44955038406224"
      ]
     },
     "execution_count": 42,
     "metadata": {},
     "output_type": "execute_result"
    }
   ],
   "source": [
    "prob_success = 1/101\n",
    "num_trials = 60\n",
    "dist_4 = stats.binom(num_trials,prob_success)\n",
    "dist_4.sf(0)"
   ]
  },
  {
   "cell_type": "markdown",
   "id": "a118645b-8e22-4550-a558-ed0d9997b3cc",
   "metadata": {
    "tags": []
   },
   "source": [
    "### 5. The codeup staff tends to get upset when the student break area is not cleaned up. Suppose that there's a 3% chance that any one student cleans the break area when they visit it, and, on any given day, about 90% of the 3 active cohorts of 22 students visit the break area"
   ]
  },
  {
   "cell_type": "markdown",
   "id": "f03122a2-132e-4b57-a300-12ba7833ea0e",
   "metadata": {
    "tags": []
   },
   "source": [
    ">How likely is it that the break area gets cleaned up each day? "
   ]
  },
  {
   "cell_type": "code",
   "execution_count": 63,
   "id": "a411a4a6-70bc-4ece-b576-7b6bc20a1f60",
   "metadata": {},
   "outputs": [
    {
     "data": {
      "text/plain": [
       "0.8342199288437352"
      ]
     },
     "execution_count": 63,
     "metadata": {},
     "output_type": "execute_result"
    }
   ],
   "source": [
    "prob_success = 0.03\n",
    "num_trials = int(.9*3*22)\n",
    "dist_5 = stats.binom(num_trials,prob_success)\n",
    "\n",
    "dist_5.sf(0)"
   ]
  },
  {
   "cell_type": "markdown",
   "id": "4222f69e-f79d-490b-a132-0a66cdf217e8",
   "metadata": {},
   "source": [
    ">How likely is it that it goes two days without getting cleaned up? "
   ]
  },
  {
   "cell_type": "code",
   "execution_count": 64,
   "id": "5be7b5ce-b5ed-4af3-9316-e436cceb766d",
   "metadata": {},
   "outputs": [
    {
     "data": {
      "text/plain": [
       "0.026658541032798935"
      ]
     },
     "execution_count": 64,
     "metadata": {},
     "output_type": "execute_result"
    }
   ],
   "source": [
    "prob_success = 0.03\n",
    "num_trials = round(.9*3*22*2)\n",
    "dist_5 = stats.binom(num_trials,prob_success)\n",
    "dist_5.pmf(0)"
   ]
  },
  {
   "cell_type": "markdown",
   "id": "e8aa9929-a390-4eec-870e-14c4b0616bc6",
   "metadata": {},
   "source": [
    ">All week?"
   ]
  },
  {
   "cell_type": "code",
   "execution_count": 65,
   "id": "c47fcbb1-2f47-471b-bea0-d300f4e7148c",
   "metadata": {
    "tags": []
   },
   "outputs": [
    {
     "data": {
      "text/plain": [
       "0.00011781621791054943"
      ]
     },
     "execution_count": 65,
     "metadata": {},
     "output_type": "execute_result"
    }
   ],
   "source": [
    "prob_success = 0.03\n",
    "num_trials = round(.9*3*22*5)\n",
    "dist_5 = stats.binom(num_trials,prob_success)\n",
    "dist_5.pmf(0)"
   ]
  },
  {
   "cell_type": "markdown",
   "id": "38f1bce1-2c3e-4109-89cf-bf7decdb9ff3",
   "metadata": {
    "tags": []
   },
   "source": [
    "### 6. You want to get lunch at La Panaderia, but notice that the line is usually very long at lunchtime. After several weeks of careful observation, you notice that the average number of people in line when your lunch break starts is normally distributed with a mean of 15 and standard deviation of 3."
   ]
  },
  {
   "cell_type": "markdown",
   "id": "1d16e195-ec9b-40e8-a644-0d6080ee7829",
   "metadata": {},
   "source": [
    ">If it takes 2 minutes for each person to order, and 10 minutes from ordering to getting your food, what is the likelihood that you have at least 15 minutes left to eat your food before you have to go back to class? Assume you have one hour for lunch, and ignore travel time to and from La Panaderia."
   ]
  },
  {
   "cell_type": "code",
   "execution_count": 70,
   "id": "c746c9bc-1cec-47fc-8fed-722b55d94ee6",
   "metadata": {
    "tags": []
   },
   "outputs": [],
   "source": [
    "μ = 15 * 2\n",
    "σ = 3 * 2\n",
    "dist_6 = stats.norm(μ, σ)"
   ]
  },
  {
   "cell_type": "code",
   "execution_count": 67,
   "id": "1564af38-81c3-46cd-afcd-9686e8b19bb0",
   "metadata": {
    "tags": []
   },
   "outputs": [
    {
     "data": {
      "text/plain": [
       "33"
      ]
     },
     "execution_count": 67,
     "metadata": {},
     "output_type": "execute_result"
    }
   ],
   "source": [
    "60 - (15+10+2)"
   ]
  },
  {
   "cell_type": "code",
   "execution_count": 69,
   "id": "d75e351d-5186-4d98-83cb-b299ced64c0e",
   "metadata": {
    "tags": []
   },
   "outputs": [
    {
     "data": {
      "text/plain": [
       "0.6914624612740131"
      ]
     },
     "execution_count": 69,
     "metadata": {},
     "output_type": "execute_result"
    }
   ],
   "source": [
    "dist_6.cdf(33)"
   ]
  },
  {
   "cell_type": "markdown",
   "id": "a90ef6a7-7784-4ed8-9230-7e300d9b9140",
   "metadata": {
    "tags": []
   },
   "source": [
    "### 7. Connect to the employees database and find the average salary of current employees, along with the standard deviation. For the following questions, calculate the answer based on modeling the employees salaries with a normal distribution defined by the calculated mean and standard deviation then compare this answer to the actual values present in the salaries dataset."
   ]
  },
  {
   "cell_type": "code",
   "execution_count": 3,
   "id": "56b931e2-8028-4f4e-8648-59441e7c5039",
   "metadata": {},
   "outputs": [],
   "source": [
    "import env\n",
    "def get_db_url(username, host_name, password, database_name):\n",
    "    return f'mysql+pymysql://{username}:{password}@{host_name}/{database_name}'\n",
    "\n",
    "url = get_db_url(env.username,env.host,env.password,'employees')\n",
    "\n",
    "query = '''\n",
    "SELECT * FROM salaries s WHERE s.to_date > NOW()\n",
    "'''\n",
    "\n",
    "df = pd.read_sql(query, url)\n",
    "\n",
    "sal_stats = df.salary.agg(['mean', 'std'])\n",
    "\n",
    "dist_7 = stats.norm(*sal_stats.values)"
   ]
  },
  {
   "cell_type": "markdown",
   "id": "9fca61ba-1fc3-43e5-91ec-b528344b9f6b",
   "metadata": {
    "tags": []
   },
   "source": [
    ">What percent of employees earn less than 60,000?"
   ]
  },
  {
   "cell_type": "code",
   "execution_count": 4,
   "id": "3eaefea2-aa48-41bb-8043-4daeadd5ac55",
   "metadata": {},
   "outputs": [
    {
     "data": {
      "text/plain": [
       "0.24385742480214434"
      ]
     },
     "execution_count": 4,
     "metadata": {},
     "output_type": "execute_result"
    }
   ],
   "source": [
    "dist_7.cdf(60_000)"
   ]
  },
  {
   "cell_type": "markdown",
   "id": "35e0fd88-5d7f-488d-9c8d-2b87b0204c29",
   "metadata": {},
   "source": [
    ">What percent of employees earn more than 95,000?"
   ]
  },
  {
   "cell_type": "code",
   "execution_count": 90,
   "id": "b70045fc-2d81-42ba-a206-112e72998643",
   "metadata": {},
   "outputs": [
    {
     "data": {
      "text/plain": [
       "0.09208819199804058"
      ]
     },
     "execution_count": 90,
     "metadata": {},
     "output_type": "execute_result"
    }
   ],
   "source": [
    "dist_7.sf(95_000)"
   ]
  },
  {
   "cell_type": "markdown",
   "id": "4f0ef0b8-6ecb-4b8b-b17f-f38f663f5fc8",
   "metadata": {},
   "source": [
    ">What percent of employees earn between 65,000 and 80,000?"
   ]
  },
  {
   "cell_type": "code",
   "execution_count": 94,
   "id": "88f7f4bf-379b-4c8f-9c4e-468751428d6c",
   "metadata": {},
   "outputs": [
    {
     "data": {
      "text/plain": [
       "0.33506056854466654"
      ]
     },
     "execution_count": 94,
     "metadata": {},
     "output_type": "execute_result"
    }
   ],
   "source": [
    "lower_limit, higher_limit = dist_7.cdf([65_000, 80_000])\n",
    "higher_limit - lower_limit"
   ]
  },
  {
   "cell_type": "markdown",
   "id": "4f7f0f9b-cfb8-4348-92a3-36e5410dffa0",
   "metadata": {},
   "source": [
    ">What do the top 5% of employees make?"
   ]
  },
  {
   "cell_type": "code",
   "execution_count": 97,
   "id": "c8a8175d-156c-4604-a6f2-5c0d7219e83c",
   "metadata": {},
   "outputs": [
    {
     "data": {
      "text/plain": [
       "100484.64454102777"
      ]
     },
     "execution_count": 97,
     "metadata": {},
     "output_type": "execute_result"
    }
   ],
   "source": [
    "dist_7.isf(.05)"
   ]
  }
 ],
 "metadata": {
  "kernelspec": {
   "display_name": "Python 3 (ipykernel)",
   "language": "python",
   "name": "python3"
  },
  "language_info": {
   "codemirror_mode": {
    "name": "ipython",
    "version": 3
   },
   "file_extension": ".py",
   "mimetype": "text/x-python",
   "name": "python",
   "nbconvert_exporter": "python",
   "pygments_lexer": "ipython3",
   "version": "3.11.5"
  }
 },
 "nbformat": 4,
 "nbformat_minor": 5
}
