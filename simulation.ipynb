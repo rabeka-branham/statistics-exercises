{
 "cells": [
  {
   "cell_type": "markdown",
   "id": "ae4b55fd-eee2-4afb-b78c-ab10484b984d",
   "metadata": {},
   "source": [
    "# Exercises"
   ]
  },
  {
   "cell_type": "code",
   "execution_count": 353,
   "id": "43663815-d2ac-4542-95a5-0df2171c2c46",
   "metadata": {
    "tags": []
   },
   "outputs": [],
   "source": [
    "import numpy as np\n",
    "import pandas as pd"
   ]
  },
  {
   "cell_type": "markdown",
   "id": "1587bcd0-9345-44c1-b3d3-ba6a663c86df",
   "metadata": {},
   "source": [
    "### 1. How likely is it that you roll doubles when rolling two dice?"
   ]
  },
  {
   "cell_type": "code",
   "execution_count": 57,
   "id": "25320e34-bd66-485d-baf5-302a6f72c4d8",
   "metadata": {
    "tags": []
   },
   "outputs": [],
   "source": [
    "outcomes_q1 = [1,2,3,4,5,6]\n",
    "trials_q1 = 2\n",
    "simulations_q1 = 10_000"
   ]
  },
  {
   "cell_type": "code",
   "execution_count": 58,
   "id": "fd54373f-e802-419a-af87-0e160902b7a2",
   "metadata": {},
   "outputs": [
    {
     "data": {
      "text/plain": [
       "0.1601"
      ]
     },
     "execution_count": 58,
     "metadata": {},
     "output_type": "execute_result"
    }
   ],
   "source": [
    "doubles = np.random.choice(outcomes_q1,(simulations_q1,trials_q1))\n",
    "doubles_df = pd.DataFrame(doubles)\n",
    "(doubles_df[0] == doubles_df[1]).mean()"
   ]
  },
  {
   "cell_type": "markdown",
   "id": "19c62992-6705-46aa-9445-4672e525ae48",
   "metadata": {},
   "source": [
    "### 2. If you flip 8 coins, what is the probability of getting exactly 3 heads? What is the probability of getting more than 3 heads?"
   ]
  },
  {
   "cell_type": "code",
   "execution_count": 63,
   "id": "2e82733b-f19e-4c75-a751-8d643a08fd21",
   "metadata": {},
   "outputs": [],
   "source": [
    "outcomes_q2 = ['H','T']\n",
    "trials_q2 = 8\n",
    "simulations_q2 = 10_000"
   ]
  },
  {
   "cell_type": "code",
   "execution_count": 64,
   "id": "0047293f-0dfd-4c2e-8141-f48e29b53900",
   "metadata": {
    "tags": []
   },
   "outputs": [
    {
     "data": {
      "text/plain": [
       "0.225"
      ]
     },
     "execution_count": 64,
     "metadata": {},
     "output_type": "execute_result"
    }
   ],
   "source": [
    "# What is the probability of getting exactly 3 heads?\n",
    "flips = np.random.choice(outcomes_q2,(simulations_q2,trials_q2))\n",
    "(((flips == 'H').sum(axis=1)) == 3).mean()"
   ]
  },
  {
   "cell_type": "code",
   "execution_count": 65,
   "id": "1ddbb894-c1fb-4c53-a28f-f96bca5d3c99",
   "metadata": {
    "tags": []
   },
   "outputs": [
    {
     "data": {
      "text/plain": [
       "0.6399"
      ]
     },
     "execution_count": 65,
     "metadata": {},
     "output_type": "execute_result"
    }
   ],
   "source": [
    "# What is the probability of getting more than 3 heads?\n",
    "flips = np.random.choice(outcomes_q2,(simulations_q2,trials_q2))\n",
    "(((flips == 'H').sum(axis=1)) > 3).mean()"
   ]
  },
  {
   "cell_type": "markdown",
   "id": "628ca4ca-5730-4663-bc6d-6687ee6476bd",
   "metadata": {},
   "source": [
    "### 3. There are approximitely 3 web development cohorts for every 1 data science cohort at Codeup. Assuming that Codeup randomly selects an alumni to put on a billboard, what are the odds that the two billboards I drive past both have data science students on them?"
   ]
  },
  {
   "cell_type": "code",
   "execution_count": 85,
   "id": "642169c6-2060-44e9-ac7b-75510799c56d",
   "metadata": {},
   "outputs": [],
   "source": [
    "outcomes_q3 = ['WD','WD','WD','DS']\n",
    "trials_q3 = 2\n",
    "simulations_q3 = 10_000\n",
    "p_q3 = .25"
   ]
  },
  {
   "cell_type": "code",
   "execution_count": 118,
   "id": "ac2e61b3-528b-4910-a18e-c4a65614626f",
   "metadata": {
    "tags": []
   },
   "outputs": [
    {
     "data": {
      "text/plain": [
       "0.0624"
      ]
     },
     "execution_count": 118,
     "metadata": {},
     "output_type": "execute_result"
    }
   ],
   "source": [
    "billboard = np.random.choice(outcomes_q3,(simulations_q3,trials_q3))\n",
    "((billboard == 'DS').sum(axis=1) == 2).mean()"
   ]
  },
  {
   "cell_type": "code",
   "execution_count": 110,
   "id": "db7c984a-30b8-4270-9e20-481cb6372f71",
   "metadata": {
    "tags": []
   },
   "outputs": [
    {
     "data": {
      "text/plain": [
       "0.0664"
      ]
     },
     "execution_count": 110,
     "metadata": {},
     "output_type": "execute_result"
    }
   ],
   "source": [
    "billboard = np.random.random((simulations_q3,trials_q3))\n",
    "ds_alumni = billboard <= p_q3\n",
    "(ds_alumni.sum(axis=1) == 2).mean()"
   ]
  },
  {
   "cell_type": "markdown",
   "id": "03cec814-9ad2-41d4-a9e0-80a891a58828",
   "metadata": {},
   "source": [
    "### 4. Codeup students buy, on average, 3 poptart packages with a standard deviation of 1.5 a day from the snack vending machine. If on monday the machine is restocked with 17 poptart packages, how likely is it that I will be able to buy some poptarts on Friday afternoon? (Remember, if you have mean and standard deviation, use the **np.random.normal**) *You'll need to make a judgement call on how to handle some of your values*"
   ]
  },
  {
   "cell_type": "code",
   "execution_count": 141,
   "id": "ecb230bc-692d-46c5-a80c-631cbcf94ea3",
   "metadata": {
    "tags": []
   },
   "outputs": [],
   "source": [
    "μ = 3\n",
    "σ = 1.5\n",
    "trials_q4 = 5\n",
    "simulations_q4 = 10_000"
   ]
  },
  {
   "cell_type": "code",
   "execution_count": 159,
   "id": "97db24dc-64fd-4734-b054-ddd0c53f73aa",
   "metadata": {},
   "outputs": [
    {
     "data": {
      "text/plain": [
       "0.7246"
      ]
     },
     "execution_count": 159,
     "metadata": {},
     "output_type": "execute_result"
    }
   ],
   "source": [
    "poptarts = np.random.normal(μ,σ,(simulations_q4,trials_q4))\n",
    "(poptarts.sum(axis=1) < 17).mean()"
   ]
  },
  {
   "cell_type": "markdown",
   "id": "7c98ec70-faa0-49f7-9ca8-86469bb0e3eb",
   "metadata": {},
   "source": [
    "### 5. Compare Heights"
   ]
  },
  {
   "cell_type": "markdown",
   "id": "b704b7d3-80d2-47c5-adf9-2a6f5ceaf35e",
   "metadata": {},
   "source": [
    ">Men have an average height of 178 cm and standard deviation of 8cm."
   ]
  },
  {
   "cell_type": "code",
   "execution_count": 269,
   "id": "65ce415d-21e3-4511-9674-57e3914a59b1",
   "metadata": {},
   "outputs": [],
   "source": [
    "μ_men = 178\n",
    "σ_men = 8"
   ]
  },
  {
   "cell_type": "markdown",
   "id": "cb2a0345-e06a-48a9-84b4-ffba7f0e51f5",
   "metadata": {},
   "source": [
    ">Women have a mean of 170, sd = 6cm."
   ]
  },
  {
   "cell_type": "code",
   "execution_count": 268,
   "id": "11aa794d-6d41-4d69-b142-26e532d6a5fe",
   "metadata": {},
   "outputs": [],
   "source": [
    "μ_women = 170\n",
    "σ_women = 6\n",
    "trials_q5 = 1\n",
    "simulations_q5 = 10_000"
   ]
  },
  {
   "cell_type": "markdown",
   "id": "ddebd3a0-1e21-4f4f-9455-5da4d8779d63",
   "metadata": {},
   "source": [
    ">Since you have means and standard deviations, you can use **np.random.normal** to generate observations."
   ]
  },
  {
   "cell_type": "code",
   "execution_count": 270,
   "id": "0dbe0c7a-f749-4fcd-b788-e320a224e0ff",
   "metadata": {},
   "outputs": [],
   "source": [
    "women = np.random.normal(μ_women,σ_women,(simulations_q5,trials_q5))\n",
    "men = np.random.normal(μ_men,σ_men,(simulations_q5,trials_q5))\n",
    "heights_df = pd.DataFrame(np.concatenate((men, women), axis=1))\n",
    "heights_df = heights_df.rename(columns={0: \"Men\", 1: \"Women\"})"
   ]
  },
  {
   "cell_type": "markdown",
   "id": "1263c048-7570-4b68-ba31-5d76480b25fa",
   "metadata": {},
   "source": [
    ">If a man and woman are chosen at random, what is the likelihood the woman is taller than the man?"
   ]
  },
  {
   "cell_type": "code",
   "execution_count": 271,
   "id": "a9410c63-3e8b-4f52-b8d5-12d4a7d503f6",
   "metadata": {
    "tags": []
   },
   "outputs": [
    {
     "data": {
      "text/plain": [
       "0.2122"
      ]
     },
     "execution_count": 271,
     "metadata": {},
     "output_type": "execute_result"
    }
   ],
   "source": [
    "(heights_df['Men'] < heights_df['Women']).mean()"
   ]
  },
  {
   "cell_type": "markdown",
   "id": "4a6e5933-70bc-4092-a933-dd59652e1c33",
   "metadata": {},
   "source": [
    "### 6. When installing anaconda on a student's computer, there's a 1 in 250 chance that the download is corrupted and the installation fails. What are the odds that after having 50 students download anaconda, no one has an installation issue? 100 students?\n",
    "\n",
    "### What is the probability that we observe an installation issue within the first 150 students that download anaconda?\n",
    "\n",
    "### How likely is it that 450 students all download anaconda without an issue?"
   ]
  },
  {
   "cell_type": "code",
   "execution_count": 236,
   "id": "11c44839-8306-4fe7-ab03-51e39d96ba27",
   "metadata": {
    "tags": []
   },
   "outputs": [
    {
     "data": {
      "text/plain": [
       "0.8173"
      ]
     },
     "execution_count": 236,
     "metadata": {},
     "output_type": "execute_result"
    }
   ],
   "source": [
    "# What are the odds that after having 50 students download anaconda, no one has an installation issue?\n",
    "p_q6 = 1/250\n",
    "trials_q6 = 50\n",
    "simulations_q6 = 10_000\n",
    "download = np.random.random((simulations_q6,trials_q6))\n",
    "((download <= p_q6).sum(axis=1) == 0).mean()"
   ]
  },
  {
   "cell_type": "code",
   "execution_count": 245,
   "id": "bf2fbf29-c634-4e53-ad81-d1af8ccf9930",
   "metadata": {
    "tags": []
   },
   "outputs": [
    {
     "data": {
      "text/plain": [
       "0.668"
      ]
     },
     "execution_count": 245,
     "metadata": {},
     "output_type": "execute_result"
    }
   ],
   "source": [
    "# 100 students?\n",
    "p_q6 = 1/250\n",
    "trials_q6 = 100\n",
    "simulations_q6 = 10_000\n",
    "download = np.random.random((simulations_q6,trials_q6))\n",
    "((download <= p_q6).sum(axis=1) == 0).mean()"
   ]
  },
  {
   "cell_type": "code",
   "execution_count": 254,
   "id": "191ab6c3-b9c4-444e-8fd9-6bad8e882078",
   "metadata": {
    "tags": []
   },
   "outputs": [
    {
     "data": {
      "text/plain": [
       "0.4591"
      ]
     },
     "execution_count": 254,
     "metadata": {},
     "output_type": "execute_result"
    }
   ],
   "source": [
    "# What is the probability that we observe an installation issue within the first 150 students that download anaconda?\n",
    "p_q6 = 1/250\n",
    "trials_q6 = 150\n",
    "simulations_q6 = 10_000\n",
    "download = np.random.random((simulations_q6,trials_q6))\n",
    "((download <= p_q6).sum(axis=1) >= 1).mean()"
   ]
  },
  {
   "cell_type": "code",
   "execution_count": 267,
   "id": "28f3af39-2c36-4504-a3c9-f54152665632",
   "metadata": {
    "tags": []
   },
   "outputs": [
    {
     "data": {
      "text/plain": [
       "0.1692"
      ]
     },
     "execution_count": 267,
     "metadata": {},
     "output_type": "execute_result"
    }
   ],
   "source": [
    "# How likely is it that 450 students all download anaconda without an issue?\n",
    "p_q6 = 1/250\n",
    "trials_q6 = 450\n",
    "simulations_q6 = 10_000\n",
    "download = np.random.random((simulations_q6,trials_q6))\n",
    "((download <= p_q6).sum(axis=1) == 0).mean()"
   ]
  },
  {
   "cell_type": "markdown",
   "id": "aa6df178-4b54-4cb4-8c75-232149d7f0de",
   "metadata": {},
   "source": [
    "### 7. There's a 70% chance on any given day that there will be at least one food truck at Travis Park. However, you haven't seen a food truck there in 3 days. How unlikely is this?\n",
    "\n",
    "### How likely is it that a food truck will show up sometime this week?"
   ]
  },
  {
   "cell_type": "code",
   "execution_count": 304,
   "id": "76226914-fa5e-440d-a580-bf175d8ad51f",
   "metadata": {},
   "outputs": [
    {
     "data": {
      "text/plain": [
       "0.0286"
      ]
     },
     "execution_count": 304,
     "metadata": {},
     "output_type": "execute_result"
    }
   ],
   "source": [
    "p_q7 = .3\n",
    "trials_q7 = 3\n",
    "simulations_q7 = 10_000\n",
    "food_trucks = np.random.random((simulations_q7,trials_q7))\n",
    "((food_trucks < p_q7).sum(axis=1) == 3).mean()"
   ]
  },
  {
   "cell_type": "code",
   "execution_count": 296,
   "id": "023f793d-3975-46ec-b9a0-e258a4682bca",
   "metadata": {
    "tags": []
   },
   "outputs": [
    {
     "data": {
      "text/plain": [
       "0.0266"
      ]
     },
     "execution_count": 296,
     "metadata": {},
     "output_type": "execute_result"
    }
   ],
   "source": [
    "outcomes_q7 = [True,True,True,True,True,True,True,False,False,False]\n",
    "trials_q7 = 3\n",
    "simulations_q7 = 10_000\n",
    "food_trucks = np.random.choice(outcomes_q7,(simulations_q7,trials_q7))\n",
    "(food_trucks.sum(axis=1) == 0).mean()"
   ]
  },
  {
   "cell_type": "markdown",
   "id": "c1aa7d8c-f214-476d-881e-ac0ba3ab73a2",
   "metadata": {},
   "source": [
    "### 8. If 23 people are in the same room, what are the odds that two of them share a birthday? What if it's 20 people? 40?"
   ]
  },
  {
   "cell_type": "code",
   "execution_count": 340,
   "id": "eb9b2e2b-15b9-4c09-a88b-a21bc4e4cece",
   "metadata": {},
   "outputs": [
    {
     "data": {
      "text/plain": [
       "0.0652"
      ]
     },
     "execution_count": 340,
     "metadata": {},
     "output_type": "execute_result"
    }
   ],
   "source": [
    "p_q8 = 1/365\n",
    "trials_q8 = 23\n",
    "simulations_q8 = 10_000\n",
    "birthdays = np.random.random((simulations_q8,trials_q8))\n",
    "((birthdays < p_q8).sum(axis=1)).mean()"
   ]
  },
  {
   "cell_type": "code",
   "execution_count": 334,
   "id": "ab292e2a-8f60-488b-9bd2-5be7e058c7f2",
   "metadata": {},
   "outputs": [
    {
     "data": {
      "text/plain": [
       "0.0553"
      ]
     },
     "execution_count": 334,
     "metadata": {},
     "output_type": "execute_result"
    }
   ],
   "source": [
    "p_q8 = 1/365\n",
    "trials_q8 = 20\n",
    "simulations_q8 = 10_000\n",
    "birthdays = np.random.random((simulations_q8,trials_q8))\n",
    "((birthdays < p_q8).sum(axis=1)).mean()"
   ]
  },
  {
   "cell_type": "code",
   "execution_count": 352,
   "id": "0ee0fcc2-c1e4-4fd4-9f73-9469ccebaad6",
   "metadata": {},
   "outputs": [
    {
     "data": {
      "text/plain": [
       "0.1103"
      ]
     },
     "execution_count": 352,
     "metadata": {},
     "output_type": "execute_result"
    }
   ],
   "source": [
    "p_q8 = 1/365\n",
    "trials_q8 = 40\n",
    "simulations_q8 = 10_000\n",
    "birthdays = np.random.random((simulations_q8,trials_q8))\n",
    "((birthdays < p_q8).sum(axis=1)).mean()"
   ]
  },
  {
   "cell_type": "code",
   "execution_count": null,
   "id": "d1bc80f3-18ce-44be-9b07-3cb8f91bf230",
   "metadata": {},
   "outputs": [],
   "source": []
  },
  {
   "cell_type": "code",
   "execution_count": null,
   "id": "6b5c7df7-d05e-4c43-838c-ceeb267c9f92",
   "metadata": {},
   "outputs": [],
   "source": []
  },
  {
   "cell_type": "code",
   "execution_count": null,
   "id": "9f4e85ef-6ced-437d-82ed-f4601786e5ea",
   "metadata": {},
   "outputs": [],
   "source": []
  },
  {
   "cell_type": "code",
   "execution_count": null,
   "id": "5815c61a-5a8e-41f3-862a-b0f840e7a8c4",
   "metadata": {},
   "outputs": [],
   "source": []
  },
  {
   "cell_type": "code",
   "execution_count": null,
   "id": "d347612d-e642-41b6-87dc-83b151fed3a6",
   "metadata": {},
   "outputs": [],
   "source": []
  },
  {
   "cell_type": "code",
   "execution_count": null,
   "id": "c3c28e7b-b670-4d50-8e6b-3929bfd1e909",
   "metadata": {},
   "outputs": [],
   "source": []
  },
  {
   "cell_type": "code",
   "execution_count": null,
   "id": "5b7e86b7-1536-4258-ac09-5d1c0eaf89a4",
   "metadata": {},
   "outputs": [],
   "source": []
  },
  {
   "cell_type": "code",
   "execution_count": null,
   "id": "ebf9db9c-ec5e-4034-85f6-a3e5e18194c7",
   "metadata": {},
   "outputs": [],
   "source": []
  },
  {
   "cell_type": "code",
   "execution_count": null,
   "id": "9f3b4d55-c9e6-4186-9ef0-057bfb48c34e",
   "metadata": {},
   "outputs": [],
   "source": []
  },
  {
   "cell_type": "code",
   "execution_count": null,
   "id": "643c5588-d5ef-4b2c-9425-050b30df9e71",
   "metadata": {},
   "outputs": [],
   "source": []
  },
  {
   "cell_type": "code",
   "execution_count": null,
   "id": "ead752d3-92c9-449b-8cb8-92a32e32f7b5",
   "metadata": {},
   "outputs": [],
   "source": []
  },
  {
   "cell_type": "code",
   "execution_count": null,
   "id": "c5cc2220-5ac9-408e-b199-96b1a5934f86",
   "metadata": {},
   "outputs": [],
   "source": []
  },
  {
   "cell_type": "code",
   "execution_count": null,
   "id": "cac68906-e4bc-41bb-b411-35ab8e1f589a",
   "metadata": {},
   "outputs": [],
   "source": []
  },
  {
   "cell_type": "code",
   "execution_count": null,
   "id": "8c44489b-5b2f-4a10-949d-31db1cae4c22",
   "metadata": {},
   "outputs": [],
   "source": []
  },
  {
   "cell_type": "code",
   "execution_count": null,
   "id": "61e23e03-fc97-42d9-91cf-a937498ccf05",
   "metadata": {},
   "outputs": [],
   "source": []
  },
  {
   "cell_type": "code",
   "execution_count": null,
   "id": "cf345103-29cb-4ec2-9819-6d7d3b691aab",
   "metadata": {},
   "outputs": [],
   "source": []
  },
  {
   "cell_type": "code",
   "execution_count": null,
   "id": "8b7e365f-f4c3-4767-a54a-a6b10fcfa6f0",
   "metadata": {},
   "outputs": [],
   "source": []
  },
  {
   "cell_type": "code",
   "execution_count": null,
   "id": "98850361-ee9c-4776-ba9c-f12341845400",
   "metadata": {},
   "outputs": [],
   "source": []
  }
 ],
 "metadata": {
  "kernelspec": {
   "display_name": "Python 3 (ipykernel)",
   "language": "python",
   "name": "python3"
  },
  "language_info": {
   "codemirror_mode": {
    "name": "ipython",
    "version": 3
   },
   "file_extension": ".py",
   "mimetype": "text/x-python",
   "name": "python",
   "nbconvert_exporter": "python",
   "pygments_lexer": "ipython3",
   "version": "3.11.5"
  }
 },
 "nbformat": 4,
 "nbformat_minor": 5
}
