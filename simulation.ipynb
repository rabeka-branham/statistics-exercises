{
 "cells": [
  {
   "cell_type": "markdown",
   "id": "ae4b55fd-eee2-4afb-b78c-ab10484b984d",
   "metadata": {},
   "source": [
    "# Exercises"
   ]
  },
  {
   "cell_type": "code",
   "execution_count": 63,
   "id": "43663815-d2ac-4542-95a5-0df2171c2c46",
   "metadata": {
    "tags": []
   },
   "outputs": [],
   "source": [
    "import numpy as np\n",
    "import pandas as pd"
   ]
  },
  {
   "cell_type": "code",
   "execution_count": 76,
   "id": "0a896b77-5257-49d2-b499-3ac608371339",
   "metadata": {
    "tags": []
   },
   "outputs": [],
   "source": [
    "np.random.seed(123)"
   ]
  },
  {
   "cell_type": "markdown",
   "id": "1587bcd0-9345-44c1-b3d3-ba6a663c86df",
   "metadata": {},
   "source": [
    "### 1. How likely is it that you roll doubles when rolling two dice?"
   ]
  },
  {
   "cell_type": "code",
   "execution_count": 171,
   "id": "25320e34-bd66-485d-baf5-302a6f72c4d8",
   "metadata": {
    "tags": []
   },
   "outputs": [],
   "source": [
    "outcomes_q1 = np.arange(1,7)\n",
    "trials_q1 = 2\n",
    "simulations_q1 = 100_000\n",
    "\n",
    "doubles = np.random.choice(outcomes_q1,(simulations_q1,trials_q1))"
   ]
  },
  {
   "cell_type": "code",
   "execution_count": 172,
   "id": "fd54373f-e802-419a-af87-0e160902b7a2",
   "metadata": {},
   "outputs": [
    {
     "data": {
      "text/plain": [
       "0.16854"
      ]
     },
     "execution_count": 172,
     "metadata": {},
     "output_type": "execute_result"
    }
   ],
   "source": [
    "doubles_df = pd.DataFrame(doubles)\n",
    "(doubles_df[0] == doubles_df[1]).mean()"
   ]
  },
  {
   "cell_type": "markdown",
   "id": "19c62992-6705-46aa-9445-4672e525ae48",
   "metadata": {},
   "source": [
    "### 2. If you flip 8 coins, what is the probability of getting exactly 3 heads? What is the probability of getting more than 3 heads?"
   ]
  },
  {
   "cell_type": "code",
   "execution_count": 168,
   "id": "2e82733b-f19e-4c75-a751-8d643a08fd21",
   "metadata": {},
   "outputs": [],
   "source": [
    "outcomes_q2 = ['H','T']\n",
    "trials_q2 = 8\n",
    "simulations_q2 = 100_000\n",
    "\n",
    "flips = np.random.choice(outcomes_q2,(simulations_q2,trials_q2))"
   ]
  },
  {
   "cell_type": "code",
   "execution_count": 169,
   "id": "0047293f-0dfd-4c2e-8141-f48e29b53900",
   "metadata": {
    "tags": []
   },
   "outputs": [
    {
     "data": {
      "text/plain": [
       "0.21854"
      ]
     },
     "execution_count": 169,
     "metadata": {},
     "output_type": "execute_result"
    }
   ],
   "source": [
    "# What is the probability of getting exactly 3 heads?\n",
    "(((flips == 'H').sum(axis=1)) == 3).mean()"
   ]
  },
  {
   "cell_type": "code",
   "execution_count": 170,
   "id": "1ddbb894-c1fb-4c53-a28f-f96bca5d3c99",
   "metadata": {
    "tags": []
   },
   "outputs": [
    {
     "data": {
      "text/plain": [
       "0.63497"
      ]
     },
     "execution_count": 170,
     "metadata": {},
     "output_type": "execute_result"
    }
   ],
   "source": [
    "# What is the probability of getting more than 3 heads?\n",
    "(((flips == 'H').sum(axis=1)) > 3).mean()"
   ]
  },
  {
   "cell_type": "markdown",
   "id": "628ca4ca-5730-4663-bc6d-6687ee6476bd",
   "metadata": {},
   "source": [
    "### 3. There are approximitely 3 web development cohorts for every 1 data science cohort at Codeup. Assuming that Codeup randomly selects an alumni to put on a billboard, what are the odds that the two billboards I drive past both have data science students on them?"
   ]
  },
  {
   "cell_type": "code",
   "execution_count": 164,
   "id": "642169c6-2060-44e9-ac7b-75510799c56d",
   "metadata": {},
   "outputs": [],
   "source": [
    "trials_q3 = 2\n",
    "simulations_q3 = 100_000"
   ]
  },
  {
   "cell_type": "code",
   "execution_count": 165,
   "id": "ac2e61b3-528b-4910-a18e-c4a65614626f",
   "metadata": {
    "tags": []
   },
   "outputs": [
    {
     "data": {
      "text/plain": [
       "0.06371"
      ]
     },
     "execution_count": 165,
     "metadata": {},
     "output_type": "execute_result"
    }
   ],
   "source": [
    "outcomes_q3_a = ['WD','WD','WD','DS']\n",
    "\n",
    "billboard = np.random.choice(outcomes_q3_a,(simulations_q3,trials_q3))\n",
    "((billboard == 'DS').sum(axis=1) == 2).mean()"
   ]
  },
  {
   "cell_type": "code",
   "execution_count": 166,
   "id": "db7c984a-30b8-4270-9e20-481cb6372f71",
   "metadata": {
    "tags": []
   },
   "outputs": [
    {
     "data": {
      "text/plain": [
       "0.06249"
      ]
     },
     "execution_count": 166,
     "metadata": {},
     "output_type": "execute_result"
    }
   ],
   "source": [
    "p_q3 = .25\n",
    "\n",
    "billboard = np.random.random((simulations_q3,trials_q3))\n",
    "ds_alumni = billboard <= p_q3\n",
    "(ds_alumni.sum(axis=1) == 2).mean()"
   ]
  },
  {
   "cell_type": "code",
   "execution_count": 167,
   "id": "e24a1a64-a564-4be7-a6ef-2cb115ab1b82",
   "metadata": {
    "tags": []
   },
   "outputs": [
    {
     "data": {
      "text/plain": [
       "0.0628"
      ]
     },
     "execution_count": 167,
     "metadata": {},
     "output_type": "execute_result"
    }
   ],
   "source": [
    "outcomes_q3_b = ['WD','DS']\n",
    "\n",
    "billboard = np.random.choice(outcomes_q3_b,(simulations_q3,trials_q3),p=[.75,.25])\n",
    "((billboard == 'DS').sum(axis=1) == 2).mean()"
   ]
  },
  {
   "cell_type": "markdown",
   "id": "03cec814-9ad2-41d4-a9e0-80a891a58828",
   "metadata": {},
   "source": [
    "### 4. Codeup students buy, on average, 3 poptart packages with a standard deviation of 1.5 a day from the snack vending machine. If on monday the machine is restocked with 17 poptart packages, how likely is it that I will be able to buy some poptarts on Friday afternoon? (Remember, if you have mean and standard deviation, use the **np.random.normal**) *You'll need to make a judgement call on how to handle some of your values*"
   ]
  },
  {
   "cell_type": "code",
   "execution_count": 173,
   "id": "ecb230bc-692d-46c5-a80c-631cbcf94ea3",
   "metadata": {
    "tags": []
   },
   "outputs": [],
   "source": [
    "μ = 3\n",
    "σ = 1.5\n",
    "trials_q4 = 5\n",
    "simulations_q4 = 100_000"
   ]
  },
  {
   "cell_type": "code",
   "execution_count": 174,
   "id": "97db24dc-64fd-4734-b054-ddd0c53f73aa",
   "metadata": {},
   "outputs": [
    {
     "data": {
      "text/plain": [
       "0.61545"
      ]
     },
     "execution_count": 174,
     "metadata": {},
     "output_type": "execute_result"
    }
   ],
   "source": [
    "poptarts = np.random.normal(μ,σ,(simulations_q4,trials_q4))\n",
    "(poptarts.sum(axis=1) <= 16).mean()"
   ]
  },
  {
   "cell_type": "markdown",
   "id": "7c98ec70-faa0-49f7-9ca8-86469bb0e3eb",
   "metadata": {},
   "source": [
    "### 5. Compare Heights"
   ]
  },
  {
   "cell_type": "markdown",
   "id": "b704b7d3-80d2-47c5-adf9-2a6f5ceaf35e",
   "metadata": {},
   "source": [
    ">Men have an average height of 178 cm and standard deviation of 8cm."
   ]
  },
  {
   "cell_type": "code",
   "execution_count": 179,
   "id": "65ce415d-21e3-4511-9674-57e3914a59b1",
   "metadata": {},
   "outputs": [],
   "source": [
    "μ_men = 178\n",
    "σ_men = 8"
   ]
  },
  {
   "cell_type": "markdown",
   "id": "cb2a0345-e06a-48a9-84b4-ffba7f0e51f5",
   "metadata": {},
   "source": [
    ">Women have a mean of 170, sd = 6cm."
   ]
  },
  {
   "cell_type": "code",
   "execution_count": 180,
   "id": "11aa794d-6d41-4d69-b142-26e532d6a5fe",
   "metadata": {},
   "outputs": [],
   "source": [
    "μ_women = 170\n",
    "σ_women = 6"
   ]
  },
  {
   "cell_type": "markdown",
   "id": "ddebd3a0-1e21-4f4f-9455-5da4d8779d63",
   "metadata": {},
   "source": [
    ">Since you have means and standard deviations, you can use **np.random.normal** to generate observations."
   ]
  },
  {
   "cell_type": "code",
   "execution_count": 182,
   "id": "80093ee4-618d-4caa-a46a-8f5b36df3350",
   "metadata": {
    "tags": []
   },
   "outputs": [],
   "source": [
    "trials_q5 = 1\n",
    "simulations_q5 = 100_000"
   ]
  },
  {
   "cell_type": "code",
   "execution_count": 183,
   "id": "0dbe0c7a-f749-4fcd-b788-e320a224e0ff",
   "metadata": {},
   "outputs": [],
   "source": [
    "women = np.random.normal(μ_women,σ_women,(simulations_q5,trials_q5))\n",
    "men = np.random.normal(μ_men,σ_men,(simulations_q5,trials_q5))"
   ]
  },
  {
   "cell_type": "code",
   "execution_count": 184,
   "id": "12131e06-b5e1-412a-98a0-3462a7d64160",
   "metadata": {
    "tags": []
   },
   "outputs": [],
   "source": [
    "heights_df = pd.DataFrame(np.concatenate((men, women), axis=1))\n",
    "heights_df = heights_df.rename(columns={0: \"Men\", 1: \"Women\"})\n",
    "\n",
    "heights = np.concatenate((men, women), axis=1)"
   ]
  },
  {
   "cell_type": "markdown",
   "id": "1263c048-7570-4b68-ba31-5d76480b25fa",
   "metadata": {},
   "source": [
    ">If a man and woman are chosen at random, what is the likelihood the woman is taller than the man?"
   ]
  },
  {
   "cell_type": "code",
   "execution_count": 185,
   "id": "a9410c63-3e8b-4f52-b8d5-12d4a7d503f6",
   "metadata": {
    "tags": []
   },
   "outputs": [
    {
     "data": {
      "text/plain": [
       "0.20905"
      ]
     },
     "execution_count": 185,
     "metadata": {},
     "output_type": "execute_result"
    }
   ],
   "source": [
    "(heights_df['Men'] < heights_df['Women']).mean()"
   ]
  },
  {
   "cell_type": "code",
   "execution_count": 186,
   "id": "fcbc9c8b-dd72-40c3-b5b8-c1bde1ef200a",
   "metadata": {
    "tags": []
   },
   "outputs": [
    {
     "data": {
      "text/plain": [
       "0.20905"
      ]
     },
     "execution_count": 186,
     "metadata": {},
     "output_type": "execute_result"
    }
   ],
   "source": [
    "(heights.T[0] < heights.T[1]).mean()"
   ]
  },
  {
   "cell_type": "markdown",
   "id": "4a6e5933-70bc-4092-a933-dd59652e1c33",
   "metadata": {},
   "source": [
    "### 6. When installing anaconda on a student's computer, there's a 1 in 250 chance that the download is corrupted and the installation fails. What are the odds that after having 50 students download anaconda, no one has an installation issue? 100 students?\n",
    "\n",
    "### What is the probability that we observe an installation issue within the first 150 students that download anaconda?\n",
    "\n",
    "### How likely is it that 450 students all download anaconda without an issue?"
   ]
  },
  {
   "cell_type": "code",
   "execution_count": 188,
   "id": "3e5a6426-d1d4-422c-9ca1-f58c5eb4bea0",
   "metadata": {
    "tags": []
   },
   "outputs": [],
   "source": [
    "p_q6 = 1/250\n",
    "simulations_q6 = 100_000"
   ]
  },
  {
   "cell_type": "code",
   "execution_count": 228,
   "id": "11c44839-8306-4fe7-ab03-51e39d96ba27",
   "metadata": {
    "tags": []
   },
   "outputs": [
    {
     "data": {
      "text/plain": [
       "0.81567"
      ]
     },
     "execution_count": 228,
     "metadata": {},
     "output_type": "execute_result"
    }
   ],
   "source": [
    "# What are the odds that after having 50 students download anaconda, no one has an installation issue?\n",
    "trials_q6 = 50\n",
    "download = np.random.random((simulations_q6,trials_q6))\n",
    "\n",
    "((download < p_q6).sum(axis=1) == 0).mean()"
   ]
  },
  {
   "cell_type": "code",
   "execution_count": 234,
   "id": "bf2fbf29-c634-4e53-ad81-d1af8ccf9930",
   "metadata": {
    "tags": []
   },
   "outputs": [
    {
     "data": {
      "text/plain": [
       "0.67015"
      ]
     },
     "execution_count": 234,
     "metadata": {},
     "output_type": "execute_result"
    }
   ],
   "source": [
    "# 100 students?\n",
    "trials_q6 = 100\n",
    "download = np.random.random((simulations_q6,trials_q6))\n",
    "\n",
    "((download < p_q6).sum(axis=1) == 0).mean()"
   ]
  },
  {
   "cell_type": "code",
   "execution_count": 236,
   "id": "191ab6c3-b9c4-444e-8fd9-6bad8e882078",
   "metadata": {
    "tags": []
   },
   "outputs": [
    {
     "data": {
      "text/plain": [
       "0.45201"
      ]
     },
     "execution_count": 236,
     "metadata": {},
     "output_type": "execute_result"
    }
   ],
   "source": [
    "# What is the probability that we observe an installation issue within the first 150 students that download anaconda?\n",
    "trials_q6 = 150\n",
    "download = np.random.random((simulations_q6,trials_q6))\n",
    "\n",
    "((download < p_q6).sum(axis=1) >= 1).mean()"
   ]
  },
  {
   "cell_type": "code",
   "execution_count": 237,
   "id": "28f3af39-2c36-4504-a3c9-f54152665632",
   "metadata": {
    "tags": []
   },
   "outputs": [
    {
     "data": {
      "text/plain": [
       "0.16364"
      ]
     },
     "execution_count": 237,
     "metadata": {},
     "output_type": "execute_result"
    }
   ],
   "source": [
    "# How likely is it that 450 students all download anaconda without an issue?\n",
    "trials_q6 = 450\n",
    "download = np.random.random((simulations_q6,trials_q6))\n",
    "\n",
    "((download < p_q6).sum(axis=1) == 0).mean()"
   ]
  },
  {
   "cell_type": "markdown",
   "id": "aa6df178-4b54-4cb4-8c75-232149d7f0de",
   "metadata": {},
   "source": [
    "### 7. There's a 70% chance on any given day that there will be at least one food truck at Travis Park. However, you haven't seen a food truck there in 3 days. "
   ]
  },
  {
   "cell_type": "code",
   "execution_count": 263,
   "id": "cb219d2e-68de-464a-8deb-3f8a33af2b51",
   "metadata": {
    "tags": []
   },
   "outputs": [],
   "source": [
    "p_q7 = .7\n",
    "simulations_q7 = 100_000"
   ]
  },
  {
   "cell_type": "markdown",
   "id": "dfcb4a11-bb2f-4d3b-8d3b-555a16f87c0f",
   "metadata": {
    "tags": []
   },
   "source": [
    "* How unlikely is this?"
   ]
  },
  {
   "cell_type": "code",
   "execution_count": 264,
   "id": "76226914-fa5e-440d-a580-bf175d8ad51f",
   "metadata": {},
   "outputs": [
    {
     "data": {
      "text/plain": [
       "0.0262"
      ]
     },
     "execution_count": 264,
     "metadata": {},
     "output_type": "execute_result"
    }
   ],
   "source": [
    "trials_q7 = 3\n",
    "\n",
    "food_trucks = np.random.random((simulations_q7,trials_q7))\n",
    "food_trucks\n",
    "((food_trucks < p_q7).sum(axis=1) == 0).mean()"
   ]
  },
  {
   "cell_type": "markdown",
   "id": "2468371b-8280-4471-977e-8c9552e27ee8",
   "metadata": {
    "tags": []
   },
   "source": [
    "* How likely is it that a food truck will show up sometime this week?"
   ]
  },
  {
   "cell_type": "code",
   "execution_count": 265,
   "id": "2133ede2-48d2-4f4a-b781-46b94fe13729",
   "metadata": {
    "tags": []
   },
   "outputs": [
    {
     "data": {
      "text/plain": [
       "0.99751"
      ]
     },
     "execution_count": 265,
     "metadata": {},
     "output_type": "execute_result"
    }
   ],
   "source": [
    "trials_q7 = 5\n",
    "\n",
    "food_trucks = np.random.random((simulations_q7,trials_q7))\n",
    "food_trucks\n",
    "((food_trucks < p_q7).sum(axis=1) > 0).mean()"
   ]
  },
  {
   "cell_type": "markdown",
   "id": "c1aa7d8c-f214-476d-881e-ac0ba3ab73a2",
   "metadata": {},
   "source": [
    "### 8. If 23 people are in the same room, what are the odds that two of them share a birthday? What if it's 20 people? 40?"
   ]
  },
  {
   "cell_type": "code",
   "execution_count": 290,
   "id": "8055b7e0-b9fb-4112-8991-6ad158edbef1",
   "metadata": {
    "tags": []
   },
   "outputs": [],
   "source": [
    "outcomes_q8 = np.arange(1,366)\n",
    "simulations_q8 = 100_000"
   ]
  },
  {
   "cell_type": "code",
   "execution_count": 287,
   "id": "789ffa49-1f63-4e63-bd09-fc64ac5bd1df",
   "metadata": {
    "tags": []
   },
   "outputs": [
    {
     "data": {
      "text/plain": [
       "0.5061"
      ]
     },
     "execution_count": 287,
     "metadata": {},
     "output_type": "execute_result"
    }
   ],
   "source": [
    "trials_q8 = 23\n",
    "birthdays = np.random.choice(outcomes_q8,(simulations_q8,trials_q8))\n",
    "birthdays_df = pd.DataFrame(birthdays)\n",
    "birthdays_df\n",
    "(birthdays_df.nunique(axis=1) < trials_q8).mean()"
   ]
  },
  {
   "cell_type": "code",
   "execution_count": 288,
   "id": "ef64886c-8de6-40ef-9c15-da5ed780213e",
   "metadata": {
    "tags": []
   },
   "outputs": [
    {
     "data": {
      "text/plain": [
       "0.41029"
      ]
     },
     "execution_count": 288,
     "metadata": {},
     "output_type": "execute_result"
    }
   ],
   "source": [
    "trials_q8 = 20\n",
    "birthdays = np.random.choice(outcomes_q8,(simulations_q8,trials_q8))\n",
    "birthdays_df = pd.DataFrame(birthdays)\n",
    "birthdays_df\n",
    "(birthdays_df.nunique(axis=1) < trials_q8).mean()"
   ]
  },
  {
   "cell_type": "code",
   "execution_count": 289,
   "id": "8f3894c0-1f9b-4672-bccb-bf35a74ed12b",
   "metadata": {
    "tags": []
   },
   "outputs": [
    {
     "data": {
      "text/plain": [
       "0.89088"
      ]
     },
     "execution_count": 289,
     "metadata": {},
     "output_type": "execute_result"
    }
   ],
   "source": [
    "trials_q8 = 40\n",
    "birthdays = np.random.choice(outcomes_q8,(simulations_q8,trials_q8))\n",
    "birthdays_df = pd.DataFrame(birthdays)\n",
    "birthdays_df\n",
    "(birthdays_df.nunique(axis=1) < trials_q8).mean()"
   ]
  }
 ],
 "metadata": {
  "kernelspec": {
   "display_name": "Python 3 (ipykernel)",
   "language": "python",
   "name": "python3"
  },
  "language_info": {
   "codemirror_mode": {
    "name": "ipython",
    "version": 3
   },
   "file_extension": ".py",
   "mimetype": "text/x-python",
   "name": "python",
   "nbconvert_exporter": "python",
   "pygments_lexer": "ipython3",
   "version": "3.11.5"
  }
 },
 "nbformat": 4,
 "nbformat_minor": 5
}
